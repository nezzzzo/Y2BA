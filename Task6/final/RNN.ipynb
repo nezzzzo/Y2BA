{
 "cells": [
  {
   "cell_type": "markdown",
   "id": "7442af86-b6ff-455a-9568-6484e6ebb886",
   "metadata": {},
   "source": [
    "# RNN model for Emotion Classification"
   ]
  },
  {
   "cell_type": "markdown",
   "id": "abec4d41-afca-4453-ac3c-7ada6429c6f0",
   "metadata": {},
   "source": [
    "## **Data preprocessing**"
   ]
  },
  {
   "cell_type": "code",
   "execution_count": 2,
   "id": "71fabaa8-e458-45b9-9e47-89c1543c97a1",
   "metadata": {},
   "outputs": [
    {
     "name": "stdout",
     "output_type": "stream",
     "text": [
      "Environment ready.\n"
     ]
    }
   ],
   "source": [
    "# Ignore warnings\n",
    "import warnings\n",
    "warnings.filterwarnings(\"ignore\")\n",
    "\n",
    "# Core libraries\n",
    "import numpy as np\n",
    "import pandas as pd\n",
    "import json\n",
    "import joblib\n",
    "from pathlib import Path\n",
    "\n",
    "# Define data paths\n",
    "SEQ_PATH   = Path(\"artifacts/features/sequences/\")\n",
    "LABEL_PATH = Path(\"artifacts/labels/\")\n",
    "DENSE_PATH = Path(\"artifacts/features/dense/\")\n",
    "\n",
    "print(\"Environment ready.\")"
   ]
  },
  {
   "cell_type": "code",
   "execution_count": 3,
   "id": "2da2d8c3-c326-4264-9f34-dbd6c8580b1b",
   "metadata": {},
   "outputs": [
    {
     "name": "stdout",
     "output_type": "stream",
     "text": [
      "Seq shapes — train:(109816, 65), valid:(6102, 65), test:(6102, 65)\n",
      "Max seq length: 65\n"
     ]
    }
   ],
   "source": [
    "# Load tokenized sequences\n",
    "X_train_seq = np.load(SEQ_PATH / \"X_train_seq_v1.npz\")[\"arr_0\"]\n",
    "X_valid_seq = np.load(SEQ_PATH / \"X_valid_seq_v1.npz\")[\"arr_0\"]\n",
    "X_test_seq  = np.load(SEQ_PATH / \"X_test_seq_v1.npz\")[\"arr_0\"]\n",
    "\n",
    "# Check shapes and sequence length\n",
    "print(f\"Seq shapes — train:{X_train_seq.shape}, valid:{X_valid_seq.shape}, test:{X_test_seq.shape}\")\n",
    "print(f\"Max seq length: {X_train_seq.shape[1]}\")"
   ]
  },
  {
   "cell_type": "code",
   "execution_count": 4,
   "id": "f12499c4-42f8-428d-b5c7-09cf68401bbe",
   "metadata": {},
   "outputs": [
    {
     "name": "stdout",
     "output_type": "stream",
     "text": [
      "Train non-pad length — mean:16.95, min:0, max:65\n",
      "Max token index in train: 39999\n"
     ]
    }
   ],
   "source": [
    "# Count non-padding tokens in training sequences\n",
    "non_zero = np.count_nonzero(X_train_seq, axis=1)\n",
    "print(f\"Train non-pad length — mean:{non_zero.mean():.2f}, min:{non_zero.min()}, max:{non_zero.max()}\")\n",
    "\n",
    "# Check highest token index in training data\n",
    "print(f\"Max token index in train: {int(X_train_seq.max())}\")"
   ]
  },
  {
   "cell_type": "code",
   "execution_count": 5,
   "id": "faf681d1-9f7c-4297-9af1-394b8888942c",
   "metadata": {},
   "outputs": [
    {
     "name": "stderr",
     "output_type": "stream",
     "text": [
      "2025-10-05 12:17:26.040491: I tensorflow/core/platform/cpu_feature_guard.cc:210] This TensorFlow binary is optimized to use available CPU instructions in performance-critical operations.\n",
      "To enable the following instructions: AVX2 FMA, in other operations, rebuild TensorFlow with the appropriate compiler flags.\n"
     ]
    },
    {
     "name": "stdout",
     "output_type": "stream",
     "text": [
      "Tokenizer size (unique indices): 46273\n",
      "Meta: VOCAB_SIZE=40000 | MAX_LEN=65\n"
     ]
    }
   ],
   "source": [
    "# Load training tokenizer\n",
    "tokenizer = joblib.load(SEQ_PATH / \"tokenizer_v1.joblib\")\n",
    "\n",
    "# Load sequence metadata\n",
    "with open(SEQ_PATH / \"sequence_meta_v1.txt\", \"r\") as f:\n",
    "    meta_txt = f.read()\n",
    "\n",
    "# Print tokenizer size and metadata\n",
    "print(f\"Tokenizer size (unique indices): {len(tokenizer.word_index)}\")\n",
    "print(\"Meta:\", meta_txt.strip().replace(\"\\n\", \" | \"))"
   ]
  },
  {
   "cell_type": "code",
   "execution_count": 6,
   "id": "350c295a-e5a2-4e65-b6d1-7a64771291c3",
   "metadata": {},
   "outputs": [
    {
     "name": "stdout",
     "output_type": "stream",
     "text": [
      "Label shapes — train:(109815, 1), valid:(6101, 1), test:(6101, 1)\n",
      "Train class counts: {0: 14800, 1: 2174, 2: 3953, 3: 31351, 4: 36691, 5: 9130, 6: 11716}\n"
     ]
    }
   ],
   "source": [
    "# Load label data\n",
    "y_train = pd.read_csv(LABEL_PATH / \"y_train_v1.csv\")\n",
    "y_valid = pd.read_csv(LABEL_PATH / \"y_valid_v1.csv\")\n",
    "y_test  = pd.read_csv(LABEL_PATH / \"y_test_v1.csv\")\n",
    "\n",
    "# Get label column name\n",
    "label_col = y_train.columns[0]\n",
    "\n",
    "# Check label shapes\n",
    "print(f\"Label shapes — train:{y_train.shape}, valid:{y_valid.shape}, test:{y_test.shape}\")\n",
    "\n",
    "# Show training label distribution\n",
    "train_counts = y_train[label_col].value_counts().sort_index()\n",
    "print(\"Train class counts:\", train_counts.to_dict())"
   ]
  },
  {
   "cell_type": "code",
   "execution_count": 7,
   "id": "e6b3a57c-ca79-4f6c-9cc9-9750a45e50d8",
   "metadata": {},
   "outputs": [
    {
     "name": "stdout",
     "output_type": "stream",
     "text": [
      "Classes: {0: 'anger', 1: 'disgust', 2: 'fear', 3: 'happiness', 4: 'neutral', 5: 'sadness', 6: 'surprise'}\n"
     ]
    }
   ],
   "source": [
    "# Load mapping from emotion labels to numeric IDs\n",
    "with open(LABEL_PATH / \"label_mapping_v1.json\", \"r\") as f:\n",
    "    label_mapping = json.load(f)\n",
    "\n",
    "# Create reverse mapping (ID → label)\n",
    "id_to_emotion = {v: k for k, v in label_mapping.items()}\n",
    "\n",
    "# Show all classes\n",
    "print(\"Classes:\", {i: id_to_emotion[i] for i in sorted(id_to_emotion)})"
   ]
  },
  {
   "cell_type": "code",
   "execution_count": 8,
   "id": "ccca1c41-7d75-4f72-85d8-68d7534f1555",
   "metadata": {},
   "outputs": [
    {
     "name": "stdout",
     "output_type": "stream",
     "text": [
      "Dense features: (122017, 22), n_cols=22\n"
     ]
    }
   ],
   "source": [
    "# Load dense features\n",
    "dense_features = pd.read_parquet(DENSE_PATH / \"dense_features_v1.parquet\", engine=\"pyarrow\")\n",
    "\n",
    "# Load feature column names\n",
    "with open(DENSE_PATH / \"dense_feature_columns_v1.json\", \"r\") as f:\n",
    "    feature_columns = json.load(f)\n",
    "\n",
    "# Load scaler from training\n",
    "scaler = joblib.load(DENSE_PATH / \"dense_scaler_v1.joblib\")\n",
    "\n",
    "# Check dense feature shape\n",
    "print(f\"Dense features: {dense_features.shape}, n_cols={len(feature_columns)}\")"
   ]
  },
  {
   "cell_type": "code",
   "execution_count": 9,
   "id": "6a78ac5a-8efd-49d7-90f0-2357dfdf7b53",
   "metadata": {},
   "outputs": [
    {
     "name": "stdout",
     "output_type": "stream",
     "text": [
      "Dense split — train:(109815, 22), valid:(6101, 22), test:(6101, 22)\n"
     ]
    }
   ],
   "source": [
    "# Split dense features by explicit 'split' column or by row order\n",
    "if \"split\" in dense_features.columns:\n",
    "    train_dense = dense_features[dense_features[\"split\"] == \"train\"][feature_columns]\n",
    "    valid_dense = dense_features[dense_features[\"split\"] == \"valid\"][feature_columns]\n",
    "    test_dense  = dense_features[dense_features[\"split\"] == \"test\"][feature_columns]\n",
    "else:\n",
    "    n_train, n_valid = len(y_train), len(y_valid)\n",
    "    train_dense = dense_features.iloc[:n_train][feature_columns]\n",
    "    valid_dense = dense_features.iloc[n_train:n_train+n_valid][feature_columns]\n",
    "    test_dense  = dense_features.iloc[n_train+n_valid:][feature_columns]\n",
    "\n",
    "# Check split sizes\n",
    "print(f\"Dense split — train:{train_dense.shape}, valid:{valid_dense.shape}, test:{test_dense.shape}\")"
   ]
  },
  {
   "cell_type": "code",
   "execution_count": 10,
   "id": "bf7149e9-5644-4769-8c00-ad94dd1fdd54",
   "metadata": {},
   "outputs": [
    {
     "name": "stdout",
     "output_type": "stream",
     "text": [
      "Seq/label match: {'train': False, 'valid': False, 'test': False}\n",
      "Post-fix shapes — train:(109815, 65), valid:(6101, 65), test:(6101, 65)\n"
     ]
    }
   ],
   "source": [
    "# Verify sequence and label counts match\n",
    "def _ok(x, y): return x == y\n",
    "print(\"Seq/label match:\",\n",
    "      dict(train=_ok(X_train_seq.shape[0], len(y_train)),\n",
    "           valid=_ok(X_valid_seq.shape[0], len(y_valid)),\n",
    "           test=_ok(X_test_seq.shape[0], len(y_test))))\n",
    "\n",
    "# Trim sequences if counts differ\n",
    "if X_train_seq.shape[0] != len(y_train):\n",
    "    X_train_seq = X_train_seq[:len(y_train)]\n",
    "if X_valid_seq.shape[0] != len(y_valid):\n",
    "    X_valid_seq = X_valid_seq[:len(y_valid)]\n",
    "if X_test_seq.shape[0] != len(y_test):\n",
    "    X_test_seq = X_test_seq[:len(y_test)]\n",
    "\n",
    "# Print final shapes after adjustment\n",
    "print(f\"Post-fix shapes — train:{X_train_seq.shape}, valid:{X_valid_seq.shape}, test:{X_test_seq.shape}\")"
   ]
  },
  {
   "cell_type": "code",
   "execution_count": 11,
   "id": "ea02f52a-c964-4859-8ff4-0dab0ebfa256",
   "metadata": {},
   "outputs": [
    {
     "name": "stdout",
     "output_type": "stream",
     "text": [
      "Train after removing empties: (109811, 65), labels:(109811, 1), dense:(109811, 22)\n"
     ]
    }
   ],
   "source": [
    "# Remove empty (all-padding) rows from training set\n",
    "train_nonempty_mask = np.count_nonzero(X_train_seq, axis=1) > 0\n",
    "X_train_seq = X_train_seq[train_nonempty_mask]\n",
    "y_train = y_train.loc[train_nonempty_mask].reset_index(drop=True)\n",
    "train_dense = train_dense.loc[train_nonempty_mask].reset_index(drop=True)\n",
    "\n",
    "# Check shapes after cleanup\n",
    "print(f\"Train after removing empties: {X_train_seq.shape}, labels:{y_train.shape}, dense:{train_dense.shape}\")"
   ]
  },
  {
   "cell_type": "code",
   "execution_count": 12,
   "id": "f151a37f-cca6-4d28-86a7-76d2fb7fb67c",
   "metadata": {},
   "outputs": [
    {
     "name": "stdout",
     "output_type": "stream",
     "text": [
      "External samples: 5994, text column: 'Translation'\n"
     ]
    }
   ],
   "source": [
    "# Load external test data\n",
    "new_test_data = pd.read_csv(\"group_8_url_1_transcript.csv\")\n",
    "\n",
    "# Select text column (set to 'Sentence' if training was on Arabic)\n",
    "TEXT_COLUMN = \"Translation\"\n",
    "\n",
    "# Check dataset size and chosen column\n",
    "print(f\"External samples: {len(new_test_data)}, text column: '{TEXT_COLUMN}'\")"
   ]
  },
  {
   "cell_type": "code",
   "execution_count": 13,
   "id": "c8e32750-51df-4ab6-9e67-7a4f7972cdce",
   "metadata": {},
   "outputs": [
    {
     "name": "stdout",
     "output_type": "stream",
     "text": [
      "External samples: 5994, text column: 'Translation'\n"
     ]
    }
   ],
   "source": [
    "# Load external test data\n",
    "new_test_data = pd.read_csv(\"group_8_url_1_transcript.csv\")\n",
    "\n",
    "# Choose text column (match training language)\n",
    "TEXT_COLUMN = \"Translation\"\n",
    "\n",
    "# Print dataset info\n",
    "print(f\"External samples: {len(new_test_data)}, text column: '{TEXT_COLUMN}'\")"
   ]
  },
  {
   "cell_type": "code",
   "execution_count": 14,
   "id": "7eff0d25-58fb-47d7-80cf-984919846cfd",
   "metadata": {},
   "outputs": [
    {
     "name": "stdout",
     "output_type": "stream",
     "text": [
      "Sample data from each column:\n",
      "\n",
      "\n",
      "Start Time:\n",
      "0    1900-01-01 00:00:00\n",
      "1    1900-01-01 00:00:02\n",
      "2    1900-01-01 00:00:04\n",
      "Name: Start Time, dtype: object\n",
      "--------------------------------------------------\n",
      "\n",
      "End Time:\n",
      "0    1900-01-01 00:00:02\n",
      "1    1900-01-01 00:00:04\n",
      "2    1900-01-01 00:00:05\n",
      "Name: End Time, dtype: object\n",
      "--------------------------------------------------\n",
      "\n",
      "Sentence:\n",
      "0    لا يوجد علاقة بدون حاجة\n",
      "1                      قاعدة\n",
      "2              لا يوجد علاقة\n",
      "Name: Sentence, dtype: object\n",
      "--------------------------------------------------\n",
      "\n",
      "Translation:\n",
      "0    There is no relationship without need\n",
      "1                                     Base\n",
      "2                 There is no relationship\n",
      "Name: Translation, dtype: object\n",
      "--------------------------------------------------\n",
      "\n",
      "Emotion_fine:\n",
      "0    resignation\n",
      "1     neutrality\n",
      "2     detachment\n",
      "Name: Emotion_fine, dtype: object\n",
      "--------------------------------------------------\n",
      "\n",
      "Emotion_core:\n",
      "0    neutral\n",
      "1    neutral\n",
      "2    neutral\n",
      "Name: Emotion_core, dtype: object\n",
      "--------------------------------------------------\n",
      "\n",
      "Intensity:\n",
      "0    neutral\n",
      "1    neutral\n",
      "2    neutral\n",
      "Name: Intensity, dtype: object\n",
      "--------------------------------------------------\n"
     ]
    }
   ],
   "source": [
    "# Preview first 3 rows of each column\n",
    "print(\"Sample data from each column:\\n\")\n",
    "for col in new_test_data.columns:\n",
    "    print(f\"\\n{col}:\")\n",
    "    print(new_test_data[col].head(3))\n",
    "    print(\"-\" * 50)"
   ]
  },
  {
   "cell_type": "code",
   "execution_count": 15,
   "id": "7dac185d-df38-47c3-86b4-9cbf5595b1da",
   "metadata": {},
   "outputs": [
    {
     "name": "stdout",
     "output_type": "stream",
     "text": [
      "External tokenized shape: (5994, 65) (seq_len=65)\n"
     ]
    }
   ],
   "source": [
    "from tensorflow.keras.preprocessing.sequence import pad_sequences\n",
    "\n",
    "# Tokenize external test text\n",
    "test_texts = new_test_data[TEXT_COLUMN].fillna(\"\").astype(str).tolist()\n",
    "test_sequences = tokenizer.texts_to_sequences(test_texts)\n",
    "\n",
    "# Pad/truncate to match training sequence length\n",
    "SEQ_LEN = X_train_seq.shape[1]\n",
    "X_new_test = pad_sequences(test_sequences, maxlen=SEQ_LEN, padding=\"post\", truncating=\"post\")\n",
    "\n",
    "# Check shape\n",
    "print(f\"External tokenized shape: {X_new_test.shape} (seq_len={SEQ_LEN})\")"
   ]
  },
  {
   "cell_type": "code",
   "execution_count": 16,
   "id": "48de5f10-c83c-41c9-90cf-2cee5416f068",
   "metadata": {},
   "outputs": [
    {
     "name": "stdout",
     "output_type": "stream",
     "text": [
      "External labels: total=5994, valid=5994, unknown=0\n",
      "Emotion column used: Emotion_core\n"
     ]
    }
   ],
   "source": [
    "# Pick emotion column (core or fine) based on mapping coverage\n",
    "if set(new_test_data.get(\"Emotion_core\", [])).issubset(set(label_mapping.keys())):\n",
    "    EMOTION_COL = \"Emotion_core\"\n",
    "elif set(new_test_data.get(\"Emotion_fine\", [])).issubset(set(label_mapping.keys())):\n",
    "    EMOTION_COL = \"Emotion_fine\"\n",
    "else:\n",
    "    EMOTION_COL = \"Emotion_core\"\n",
    "\n",
    "# Map emotion labels to IDs, mark unknowns as -1\n",
    "y_new_test = []\n",
    "for emo in new_test_data[EMOTION_COL].astype(str):\n",
    "    y_new_test.append(label_mapping.get(emo, -1))\n",
    "y_new_test = np.array(y_new_test, dtype=int)\n",
    "\n",
    "# Keep only valid labels\n",
    "valid_mask = y_new_test >= 0\n",
    "X_new_test_valid = X_new_test[valid_mask]\n",
    "y_new_test_valid = y_new_test[valid_mask]\n",
    "\n",
    "# Check label counts\n",
    "print(f\"External labels: total={len(y_new_test)}, valid={valid_mask.sum()}, unknown={(~valid_mask).sum()}\")\n",
    "print(f\"Emotion column used: {EMOTION_COL}\")"
   ]
  },
  {
   "cell_type": "code",
   "execution_count": 17,
   "id": "65bcf048-7fc0-4373-a122-784abe1b22ed",
   "metadata": {},
   "outputs": [
    {
     "data": {
      "text/plain": [
       "{'train_seq': (109811, 65),\n",
       " 'valid_seq': (6101, 65),\n",
       " 'test_seq': (6101, 65),\n",
       " 'dense_cols': 22,\n",
       " 'new_test_seq': (5994, 65),\n",
       " 'new_test_valid': 5994,\n",
       " 'n_classes': 7}"
      ]
     },
     "execution_count": 17,
     "metadata": {},
     "output_type": "execute_result"
    }
   ],
   "source": [
    "# Quick summary of data shapes and counts\n",
    "summary = {\n",
    "    \"train_seq\": X_train_seq.shape,\n",
    "    \"valid_seq\": X_valid_seq.shape,\n",
    "    \"test_seq\":  X_test_seq.shape,\n",
    "    \"dense_cols\": len(feature_columns),\n",
    "    \"new_test_seq\": X_new_test.shape,\n",
    "    \"new_test_valid\": X_new_test_valid.shape[0],\n",
    "    \"n_classes\": len(label_mapping),\n",
    "}\n",
    "\n",
    "# Show summary\n",
    "summary"
   ]
  },
  {
   "cell_type": "code",
   "execution_count": 18,
   "id": "a01a7393-c1a7-46ea-b93a-07aeb7a5b4f7",
   "metadata": {},
   "outputs": [
    {
     "name": "stdout",
     "output_type": "stream",
     "text": [
      "Saved: test_data_prepared.csv, X_new_test.npz, y_new_test.npy\n"
     ]
    }
   ],
   "source": [
    "# Save external test set artifacts for later prediction/evaluation\n",
    "new_test_data.assign(\n",
    "    is_valid=valid_mask,\n",
    "    numeric_label=y_new_test\n",
    ").to_csv(\"test_data_prepared.csv\", index=False)\n",
    "\n",
    "np.savez_compressed(\"X_new_test.npz\", X_new_test_valid)\n",
    "np.save(\"y_new_test.npy\", y_new_test_valid)\n",
    "\n",
    "print(\"Saved: test_data_prepared.csv, X_new_test.npz, y_new_test.npy\")\n"
   ]
  },
  {
   "cell_type": "code",
   "execution_count": 21,
   "id": "b863a952-9835-4269-b407-c8e869ce2595",
   "metadata": {},
   "outputs": [
    {
     "data": {
      "text/plain": [
       "(   class_id    emotion  count  percent  rank  split\n",
       " 0         0      anger  14799    13.48     3  train\n",
       " 1         1    disgust   2174     1.98     7  train\n",
       " 2         2       fear   3953     3.60     6  train\n",
       " 3         3  happiness  31351    28.55     2  train\n",
       " 4         4    neutral  36688    33.41     1  train\n",
       " 5         5    sadness   9130     8.31     5  train\n",
       " 6         6   surprise  11716    10.67     4  train,\n",
       "    class_id    emotion  count  percent  rank  split\n",
       " 0         0      anger    822    13.47     3  valid\n",
       " 1         1    disgust    121     1.98     7  valid\n",
       " 2         2       fear    219     3.59     6  valid\n",
       " 3         3  happiness   1742    28.55     2  valid\n",
       " 4         4    neutral   2039    33.42     1  valid\n",
       " 5         5    sadness    507     8.31     5  valid\n",
       " 6         6   surprise    651    10.67     4  valid,\n",
       "    class_id    emotion  count  percent  rank split\n",
       " 0         0      anger    822    13.47     3  test\n",
       " 1         1    disgust    121     1.98     7  test\n",
       " 2         2       fear    220     3.61     6  test\n",
       " 3         3  happiness   1742    28.55     2  test\n",
       " 4         4    neutral   2038    33.40     1  test\n",
       " 5         5    sadness    507     8.31     5  test\n",
       " 6         6   surprise    651    10.67     4  test,\n",
       "    class_id    emotion  count  percent  rank  split\n",
       " 0         0      anger  14799    13.48     3  train\n",
       " 1         1    disgust   2174     1.98     7  train\n",
       " 2         2       fear   3953     3.60     6  train\n",
       " 3         3  happiness  31351    28.55     2  train\n",
       " 4         4    neutral  36688    33.41     1  train\n",
       " 5         5    sadness   9130     8.31     5  train\n",
       " 6         6   surprise  11716    10.67     4  train\n",
       " 7         0      anger    822    13.47     3  valid\n",
       " 8         1    disgust    121     1.98     7  valid\n",
       " 9         2       fear    219     3.59     6  valid)"
      ]
     },
     "execution_count": 21,
     "metadata": {},
     "output_type": "execute_result"
    }
   ],
   "source": [
    "# Convenience arrays for labels\n",
    "ytr = y_train[label_col].astype(int).values\n",
    "yva = y_valid[label_col].astype(int).values\n",
    "yte = y_test[label_col].astype(int).values\n",
    "\n",
    "# Helper to compute class distribution\n",
    "def dist(y, name):\n",
    "    vc = pd.Series(y).value_counts().sort_index()\n",
    "    df = pd.DataFrame({\n",
    "        \"class_id\": vc.index,\n",
    "        \"emotion\": [id_to_emotion[i] for i in vc.index],\n",
    "        \"count\": vc.values\n",
    "    })\n",
    "    df[\"percent\"] = (df[\"count\"] / df[\"count\"].sum() * 100).round(2)\n",
    "    df[\"rank\"] = df[\"count\"].rank(ascending=False, method=\"min\").astype(int)\n",
    "    df[\"split\"] = name\n",
    "    return df\n",
    "\n",
    "# Distributions for each split\n",
    "dist_train = dist(ytr, \"train\")\n",
    "dist_valid = dist(yva, \"valid\")\n",
    "dist_test  = dist(yte, \"test\")\n",
    "\n",
    "# Combined distribution\n",
    "dist_all = pd.concat([dist_train, dist_valid, dist_test], ignore_index=True)\n",
    "dist_train, dist_valid, dist_test, dist_all.head(10)"
   ]
  },
  {
   "cell_type": "code",
   "execution_count": 22,
   "id": "567c7fb5-733a-4ed3-a47e-16074e395b4e",
   "metadata": {},
   "outputs": [
    {
     "name": "stdout",
     "output_type": "stream",
     "text": [
      "Train: {'n_classes': 7, 'max_class': {'class_id': 4, 'emotion': 'neutral', 'count': 36688}, 'min_class': {'class_id': 1, 'emotion': 'disgust', 'count': 2174}, 'imbalance_ratio_max_min': np.float64(16.88)}\n",
      "Valid: {'n_classes': 7, 'max_class': {'class_id': 4, 'emotion': 'neutral', 'count': 2039}, 'min_class': {'class_id': 1, 'emotion': 'disgust', 'count': 121}, 'imbalance_ratio_max_min': np.float64(16.85)}\n",
      "Test : {'n_classes': 7, 'max_class': {'class_id': 4, 'emotion': 'neutral', 'count': 2038}, 'min_class': {'class_id': 1, 'emotion': 'disgust', 'count': 121}, 'imbalance_ratio_max_min': np.float64(16.84)}\n"
     ]
    }
   ],
   "source": [
    "# Helper to summarize imbalance in a distribution\n",
    "def imbalance_report(df):\n",
    "    cmax = df[\"count\"].max()\n",
    "    cmin = df[\"count\"].min()\n",
    "    ratio = cmax / max(cmin, 1)\n",
    "    return {\n",
    "        \"n_classes\": df.shape[0],\n",
    "        \"max_class\": df.loc[df[\"count\"].idxmax(), [\"class_id\", \"emotion\", \"count\"]].to_dict(),\n",
    "        \"min_class\": df.loc[df[\"count\"].idxmin(), [\"class_id\", \"emotion\", \"count\"]].to_dict(),\n",
    "        \"imbalance_ratio_max_min\": round(ratio, 2)\n",
    "    }\n",
    "\n",
    "# Reports for each split\n",
    "imb_train = imbalance_report(dist_train)\n",
    "imb_valid = imbalance_report(dist_valid)\n",
    "imb_test  = imbalance_report(dist_test)\n",
    "\n",
    "# Print results\n",
    "print(\"Train:\", imb_train)\n",
    "print(\"Valid:\", imb_valid)\n",
    "print(\"Test :\", imb_test)"
   ]
  },
  {
   "cell_type": "code",
   "execution_count": 23,
   "id": "bba0bef8-f94b-4a53-8307-1c434ebdb9c5",
   "metadata": {},
   "outputs": [
    {
     "data": {
      "image/png": "[encoded data removed]",
      "text/plain": [
       "<Figure size 900x400 with 1 Axes>"
      ]
     },
     "metadata": {},
     "output_type": "display_data"
    },
    {
     "data": {
      "image/png": "[encoded data removed]",
      "text/plain": [
       "<Figure size 900x400 with 1 Axes>"
      ]
     },
     "metadata": {},
     "output_type": "display_data"
    },
    {
     "data": {
      "image/png": "[encoded data removed]",
      "text/plain": [
       "<Figure size 900x400 with 1 Axes>"
      ]
     },
     "metadata": {},
     "output_type": "display_data"
    }
   ],
   "source": [
    "import matplotlib.pyplot as plt\n",
    "\n",
    "# Plot class counts for a split\n",
    "def plot_counts(df, title):\n",
    "    df = df.sort_values(\"class_id\")\n",
    "    labels = [f'{i}:{id_to_emotion[i]}' for i in df[\"class_id\"]]\n",
    "    counts = df[\"count\"].values\n",
    "\n",
    "    plt.figure(figsize=(9,4))\n",
    "    plt.bar(labels, counts)\n",
    "    plt.title(title)\n",
    "    plt.xlabel(\"Class\")\n",
    "    plt.ylabel(\"Count\")\n",
    "    plt.xticks(rotation=30, ha=\"right\")\n",
    "    plt.tight_layout()\n",
    "    plt.show()\n",
    "\n",
    "# Plot distributions\n",
    "plot_counts(dist_train, \"Train class distribution\")\n",
    "plot_counts(dist_valid, \"Valid class distribution\")\n",
    "plot_counts(dist_test,  \"Test class distribution\")"
   ]
  },
  {
   "cell_type": "markdown",
   "id": "3dbce9d7-5ea8-4380-8b0e-1143e47b94a4",
   "metadata": {},
   "source": [
    "## Iterations"
   ]
  },
  {
   "cell_type": "markdown",
   "id": "c29d369e-2931-443b-a70f-04b78e08c5b5",
   "metadata": {},
   "source": [
    "### First Iteration"
   ]
  },
  {
   "cell_type": "code",
   "execution_count": 24,
   "id": "9768bdbe-d283-489d-9515-b5ddd671a57c",
   "metadata": {},
   "outputs": [],
   "source": [
    "# Imports\n",
    "import tensorflow as tf\n",
    "from tensorflow.keras import layers, models, callbacks\n",
    "from tensorflow.keras.utils import to_categorical\n",
    "from sklearn.metrics import classification_report, confusion_matrix\n",
    "import numpy as np"
   ]
  },
  {
   "cell_type": "code",
   "execution_count": 25,
   "id": "36324f11-6c95-44af-beec-9b0e68d2c78d",
   "metadata": {},
   "outputs": [],
   "source": [
    "# Define model hyperparameters\n",
    "VOCAB_SIZE = 40000\n",
    "EMBEDDING_DIM = 128\n",
    "RNN_UNITS = 128\n",
    "MAX_LEN = 65\n",
    "NUM_CLASSES = 7\n",
    "DROPOUT_RATE = 0.3"
   ]
  },
  {
   "cell_type": "code",
   "execution_count": 26,
   "id": "5d87fefa-a806-435a-b22f-b89f878a69b8",
   "metadata": {},
   "outputs": [],
   "source": [
    "# One-hot encode labels\n",
    "y_train_cat = to_categorical(y_train[label_col].values, num_classes=NUM_CLASSES)\n",
    "y_valid_cat = to_categorical(y_valid[label_col].values, num_classes=NUM_CLASSES)\n",
    "y_test_cat = to_categorical(y_test[label_col].values, num_classes=NUM_CLASSES)"
   ]
  },
  {
   "cell_type": "code",
   "execution_count": 28,
   "id": "61ef52ac-664b-4fe3-b934-8115ced5bd70",
   "metadata": {},
   "outputs": [
    {
     "data": {
      "text/html": [
       "<pre style=\"white-space:pre;overflow-x:auto;line-height:normal;font-family:Menlo,'DejaVu Sans Mono',consolas,'Courier New',monospace\"><span style=\"font-weight: bold\">Model: \"sequential\"</span>\n",
       "</pre>\n"
      ],
      "text/plain": [
       "\u001b[1mModel: \"sequential\"\u001b[0m\n"
      ]
     },
     "metadata": {},
     "output_type": "display_data"
    },
    {
     "data": {
      "text/html": [
       "<pre style=\"white-space:pre;overflow-x:auto;line-height:normal;font-family:Menlo,'DejaVu Sans Mono',consolas,'Courier New',monospace\">┏━━━━━━━━━━━━━━━━━━━━━━━━━━━━━━━━━┳━━━━━━━━━━━━━━━━━━━━━━━━┳━━━━━━━━━━━━━━━┓\n",
       "┃<span style=\"font-weight: bold\"> Layer (type)                    </span>┃<span style=\"font-weight: bold\"> Output Shape           </span>┃<span style=\"font-weight: bold\">       Param # </span>┃\n",
       "┡━━━━━━━━━━━━━━━━━━━━━━━━━━━━━━━━━╇━━━━━━━━━━━━━━━━━━━━━━━━╇━━━━━━━━━━━━━━━┩\n",
       "│ embedding (<span style=\"color: #0087ff; text-decoration-color: #0087ff\">Embedding</span>)           │ (<span style=\"color: #00d7ff; text-decoration-color: #00d7ff\">None</span>, <span style=\"color: #00af00; text-decoration-color: #00af00\">65</span>, <span style=\"color: #00af00; text-decoration-color: #00af00\">128</span>)        │     <span style=\"color: #00af00; text-decoration-color: #00af00\">5,120,128</span> │\n",
       "├─────────────────────────────────┼────────────────────────┼───────────────┤\n",
       "│ lstm (<span style=\"color: #0087ff; text-decoration-color: #0087ff\">LSTM</span>)                     │ (<span style=\"color: #00d7ff; text-decoration-color: #00d7ff\">None</span>, <span style=\"color: #00af00; text-decoration-color: #00af00\">128</span>)            │       <span style=\"color: #00af00; text-decoration-color: #00af00\">131,584</span> │\n",
       "├─────────────────────────────────┼────────────────────────┼───────────────┤\n",
       "│ dropout (<span style=\"color: #0087ff; text-decoration-color: #0087ff\">Dropout</span>)               │ (<span style=\"color: #00d7ff; text-decoration-color: #00d7ff\">None</span>, <span style=\"color: #00af00; text-decoration-color: #00af00\">128</span>)            │             <span style=\"color: #00af00; text-decoration-color: #00af00\">0</span> │\n",
       "├─────────────────────────────────┼────────────────────────┼───────────────┤\n",
       "│ dense (<span style=\"color: #0087ff; text-decoration-color: #0087ff\">Dense</span>)                   │ (<span style=\"color: #00d7ff; text-decoration-color: #00d7ff\">None</span>, <span style=\"color: #00af00; text-decoration-color: #00af00\">7</span>)              │           <span style=\"color: #00af00; text-decoration-color: #00af00\">903</span> │\n",
       "└─────────────────────────────────┴────────────────────────┴───────────────┘\n",
       "</pre>\n"
      ],
      "text/plain": [
       "┏━━━━━━━━━━━━━━━━━━━━━━━━━━━━━━━━━┳━━━━━━━━━━━━━━━━━━━━━━━━┳━━━━━━━━━━━━━━━┓\n",
       "┃\u001b[1m \u001b[0m\u001b[1mLayer (type)                   \u001b[0m\u001b[1m \u001b[0m┃\u001b[1m \u001b[0m\u001b[1mOutput Shape          \u001b[0m\u001b[1m \u001b[0m┃\u001b[1m \u001b[0m\u001b[1m      Param #\u001b[0m\u001b[1m \u001b[0m┃\n",
       "┡━━━━━━━━━━━━━━━━━━━━━━━━━━━━━━━━━╇━━━━━━━━━━━━━━━━━━━━━━━━╇━━━━━━━━━━━━━━━┩\n",
       "│ embedding (\u001b[38;5;33mEmbedding\u001b[0m)           │ (\u001b[38;5;45mNone\u001b[0m, \u001b[38;5;34m65\u001b[0m, \u001b[38;5;34m128\u001b[0m)        │     \u001b[38;5;34m5,120,128\u001b[0m │\n",
       "├─────────────────────────────────┼────────────────────────┼───────────────┤\n",
       "│ lstm (\u001b[38;5;33mLSTM\u001b[0m)                     │ (\u001b[38;5;45mNone\u001b[0m, \u001b[38;5;34m128\u001b[0m)            │       \u001b[38;5;34m131,584\u001b[0m │\n",
       "├─────────────────────────────────┼────────────────────────┼───────────────┤\n",
       "│ dropout (\u001b[38;5;33mDropout\u001b[0m)               │ (\u001b[38;5;45mNone\u001b[0m, \u001b[38;5;34m128\u001b[0m)            │             \u001b[38;5;34m0\u001b[0m │\n",
       "├─────────────────────────────────┼────────────────────────┼───────────────┤\n",
       "│ dense (\u001b[38;5;33mDense\u001b[0m)                   │ (\u001b[38;5;45mNone\u001b[0m, \u001b[38;5;34m7\u001b[0m)              │           \u001b[38;5;34m903\u001b[0m │\n",
       "└─────────────────────────────────┴────────────────────────┴───────────────┘\n"
      ]
     },
     "metadata": {},
     "output_type": "display_data"
    },
    {
     "data": {
      "text/html": [
       "<pre style=\"white-space:pre;overflow-x:auto;line-height:normal;font-family:Menlo,'DejaVu Sans Mono',consolas,'Courier New',monospace\"><span style=\"font-weight: bold\"> Total params: </span><span style=\"color: #00af00; text-decoration-color: #00af00\">5,252,615</span> (20.04 MB)\n",
       "</pre>\n"
      ],
      "text/plain": [
       "\u001b[1m Total params: \u001b[0m\u001b[38;5;34m5,252,615\u001b[0m (20.04 MB)\n"
      ]
     },
     "metadata": {},
     "output_type": "display_data"
    },
    {
     "data": {
      "text/html": [
       "<pre style=\"white-space:pre;overflow-x:auto;line-height:normal;font-family:Menlo,'DejaVu Sans Mono',consolas,'Courier New',monospace\"><span style=\"font-weight: bold\"> Trainable params: </span><span style=\"color: #00af00; text-decoration-color: #00af00\">5,252,615</span> (20.04 MB)\n",
       "</pre>\n"
      ],
      "text/plain": [
       "\u001b[1m Trainable params: \u001b[0m\u001b[38;5;34m5,252,615\u001b[0m (20.04 MB)\n"
      ]
     },
     "metadata": {},
     "output_type": "display_data"
    },
    {
     "data": {
      "text/html": [
       "<pre style=\"white-space:pre;overflow-x:auto;line-height:normal;font-family:Menlo,'DejaVu Sans Mono',consolas,'Courier New',monospace\"><span style=\"font-weight: bold\"> Non-trainable params: </span><span style=\"color: #00af00; text-decoration-color: #00af00\">0</span> (0.00 B)\n",
       "</pre>\n"
      ],
      "text/plain": [
       "\u001b[1m Non-trainable params: \u001b[0m\u001b[38;5;34m0\u001b[0m (0.00 B)\n"
      ]
     },
     "metadata": {},
     "output_type": "display_data"
    }
   ],
   "source": [
    "# Build simple RNN model\n",
    "def build_rnn_model():\n",
    "    model = models.Sequential([\n",
    "        layers.Embedding(input_dim=VOCAB_SIZE + 1, \n",
    "                         output_dim=EMBEDDING_DIM, \n",
    "                         input_length=MAX_LEN,\n",
    "                         mask_zero=True),\n",
    "        layers.LSTM(RNN_UNITS, return_sequences=False),\n",
    "        layers.Dropout(DROPOUT_RATE),\n",
    "        layers.Dense(NUM_CLASSES, activation='softmax')\n",
    "    ])\n",
    "    return model\n",
    "\n",
    "# Initialize and show model\n",
    "model.build(input_shape=(None, MAX_LEN))\n",
    "model.summary()"
   ]
  },
  {
   "cell_type": "code",
   "execution_count": 29,
   "id": "248ec1cd-353c-4235-bc91-4b1a32131a38",
   "metadata": {},
   "outputs": [],
   "source": [
    "# Compile model\n",
    "model.compile(\n",
    "    optimizer='adam',\n",
    "    loss='categorical_crossentropy',\n",
    "    metrics=['accuracy']\n",
    ")"
   ]
  },
  {
   "cell_type": "code",
   "execution_count": 30,
   "id": "d5ff416f-9e05-43d5-a148-2a68ff76dfc1",
   "metadata": {},
   "outputs": [],
   "source": [
    "# Configure training callbacks for early stopping and learning rate reduction\n",
    "early_stop = callbacks.EarlyStopping(\n",
    "    monitor='val_loss',\n",
    "    patience=3,\n",
    "    restore_best_weights=True,\n",
    "    verbose=1\n",
    ")\n",
    "\n",
    "reduce_lr = callbacks.ReduceLROnPlateau(\n",
    "    monitor='val_loss',\n",
    "    factor=0.5,\n",
    "    patience=2,\n",
    "    min_lr=1e-6,\n",
    "    verbose=1\n",
    ")"
   ]
  },
  {
   "cell_type": "code",
   "execution_count": 32,
   "id": "04c4b07a-cf16-4528-83c9-023dea7479f5",
   "metadata": {},
   "outputs": [
    {
     "name": "stdout",
     "output_type": "stream",
     "text": [
      "Epoch 1/20\n",
      "\u001b[1m858/858\u001b[0m \u001b[32m━━━━━━━━━━━━━━━━━━━━\u001b[0m\u001b[37m\u001b[0m \u001b[1m68s\u001b[0m 79ms/step - accuracy: 0.3327 - loss: 1.6410 - val_accuracy: 0.3334 - val_loss: 1.6403 - learning_rate: 0.0010\n",
      "Epoch 2/20\n",
      "\u001b[1m858/858\u001b[0m \u001b[32m━━━━━━━━━━━━━━━━━━━━\u001b[0m\u001b[37m\u001b[0m \u001b[1m72s\u001b[0m 83ms/step - accuracy: 0.3611 - loss: 1.5964 - val_accuracy: 0.3239 - val_loss: 1.6694 - learning_rate: 0.0010\n",
      "Epoch 3/20\n",
      "\u001b[1m858/858\u001b[0m \u001b[32m━━━━━━━━━━━━━━━━━━━━\u001b[0m\u001b[37m\u001b[0m \u001b[1m0s\u001b[0m 56ms/step - accuracy: 0.4172 - loss: 1.4672\n",
      "Epoch 3: ReduceLROnPlateau reducing learning rate to 0.0005000000237487257.\n",
      "\u001b[1m858/858\u001b[0m \u001b[32m━━━━━━━━━━━━━━━━━━━━\u001b[0m\u001b[37m\u001b[0m \u001b[1m52s\u001b[0m 59ms/step - accuracy: 0.4042 - loss: 1.4859 - val_accuracy: 0.3024 - val_loss: 1.7773 - learning_rate: 0.0010\n",
      "Epoch 4/20\n",
      "\u001b[1m858/858\u001b[0m \u001b[32m━━━━━━━━━━━━━━━━━━━━\u001b[0m\u001b[37m\u001b[0m \u001b[1m52s\u001b[0m 60ms/step - accuracy: 0.4631 - loss: 1.3050 - val_accuracy: 0.2806 - val_loss: 2.0035 - learning_rate: 5.0000e-04\n",
      "Epoch 4: early stopping\n",
      "Restoring model weights from the end of the best epoch: 1.\n"
     ]
    }
   ],
   "source": [
    "# Training callbacks\n",
    "early_stop = callbacks.EarlyStopping(\n",
    "    monitor='val_loss',\n",
    "    patience=3,\n",
    "    restore_best_weights=True,\n",
    "    verbose=1\n",
    ")\n",
    "\n",
    "reduce_lr = callbacks.ReduceLROnPlateau(\n",
    "    monitor='val_loss',\n",
    "    factor=0.5,\n",
    "    patience=2,\n",
    "    min_lr=1e-6,\n",
    "    verbose=1\n",
    ")"
   ]
  },
  {
   "cell_type": "code",
   "execution_count": 33,
   "id": "a141d065-8847-4942-ba5e-7075e44bcd95",
   "metadata": {},
   "outputs": [
    {
     "name": "stdout",
     "output_type": "stream",
     "text": [
      "Test Accuracy: 0.3322\n",
      "Test Loss: 1.6419\n"
     ]
    }
   ],
   "source": [
    "# Evaluate model performance on test set\n",
    "test_loss, test_acc = model.evaluate(X_test_seq, y_test_cat, verbose=0)\n",
    "print(f\"Test Accuracy: {test_acc:.4f}\")\n",
    "print(f\"Test Loss: {test_loss:.4f}\")"
   ]
  },
  {
   "cell_type": "code",
   "execution_count": 36,
   "id": "f3f81f7a-6997-4182-adbc-78549d07a797",
   "metadata": {},
   "outputs": [
    {
     "name": "stdout",
     "output_type": "stream",
     "text": [
      "External Test Set Performance:\n",
      "Macro F1 Score: 0.1051\n",
      "Weighted F1 Score: 0.3641\n",
      "\n",
      "              precision    recall  f1-score   support\n",
      "\n",
      "       anger     0.0000    0.0000    0.0000       406\n",
      "     disgust     0.0000    0.0000    0.0000       214\n",
      "        fear     0.0000    0.0000    0.0000       292\n",
      "   happiness     0.1260    0.0378    0.0581       847\n",
      "     neutral     0.5248    0.9571    0.6779      3147\n",
      "     sadness     0.0000    0.0000    0.0000       841\n",
      "    surprise     0.0000    0.0000    0.0000       247\n",
      "\n",
      "    accuracy                         0.5078      5994\n",
      "   macro avg     0.0930    0.1421    0.1051      5994\n",
      "weighted avg     0.2934    0.5078    0.3641      5994\n",
      "\n"
     ]
    }
   ],
   "source": [
    "# Evaluate model on external test set with detailed metrics\n",
    "from sklearn.metrics import f1_score\n",
    "\n",
    "y_new_pred = model.predict(X_new_test_valid, verbose=0)\n",
    "y_new_pred_classes = np.argmax(y_new_pred, axis=1)\n",
    "\n",
    "# Calculate F1 scores\n",
    "f1_macro = f1_score(y_new_test_valid, y_new_pred_classes, average='macro')\n",
    "f1_weighted = f1_score(y_new_test_valid, y_new_pred_classes, average='weighted')\n",
    "\n",
    "print(\"External Test Set Performance:\")\n",
    "print(f\"Macro F1 Score: {f1_macro:.4f}\")\n",
    "print(f\"Weighted F1 Score: {f1_weighted:.4f}\\n\")\n",
    "\n",
    "print(classification_report(\n",
    "    y_new_test_valid,\n",
    "    y_new_pred_classes,\n",
    "    target_names=[id_to_emotion[i] for i in range(NUM_CLASSES)],\n",
    "    digits=4\n",
    "))"
   ]
  },
  {
   "cell_type": "code",
   "execution_count": 37,
   "id": "8e3cc130-122b-4ae5-8569-081a121b9a10",
   "metadata": {},
   "outputs": [
    {
     "data": {
      "image/png": "[encoded data removed]",
      "text/plain": [
       "<Figure size 1200x400 with 2 Axes>"
      ]
     },
     "metadata": {},
     "output_type": "display_data"
    }
   ],
   "source": [
    "# Visualize training history: loss and accuracy curves\n",
    "plt.figure(figsize=(12, 4))\n",
    "\n",
    "plt.subplot(1, 2, 1)\n",
    "plt.plot(history.history['loss'], label='Training Loss')\n",
    "plt.plot(history.history['val_loss'], label='Validation Loss')\n",
    "plt.title('Model Loss')\n",
    "plt.xlabel('Epoch')\n",
    "plt.ylabel('Loss')\n",
    "plt.legend()\n",
    "\n",
    "plt.subplot(1, 2, 2)\n",
    "plt.plot(history.history['accuracy'], label='Training Accuracy')\n",
    "plt.plot(history.history['val_accuracy'], label='Validation Accuracy')\n",
    "plt.title('Model Accuracy')\n",
    "plt.xlabel('Epoch')\n",
    "plt.ylabel('Accuracy')\n",
    "plt.legend()\n",
    "\n",
    "plt.tight_layout()\n",
    "plt.show()"
   ]
  },
  {
   "cell_type": "markdown",
   "id": "2d0c5139-31cb-4c62-a1d7-e2821e818019",
   "metadata": {},
   "source": [
    "==================== ITERATION 2: IMPROVED RNN MODEL ====================\n",
    "Addressing class imbalance and improving architecture\n",
    "Import additional utilities for handling imbalanced data"
   ]
  },
  {
   "cell_type": "code",
   "execution_count": 39,
   "id": "1007e063-8dcd-4b2f-bec8-6b6f0bde9b50",
   "metadata": {},
   "outputs": [],
   "source": [
    "# Imports for class weights and F1 metric\n",
    "from sklearn.utils.class_weight import compute_class_weight\n",
    "from sklearn.metrics import f1_score"
   ]
  },
  {
   "cell_type": "code",
   "execution_count": 40,
   "id": "b77b1a80-15b9-4fb3-8ba2-b49920991cbe",
   "metadata": {},
   "outputs": [
    {
     "name": "stdout",
     "output_type": "stream",
     "text": [
      "anger       : 1.060\n",
      "disgust     : 7.216\n",
      "fear        : 3.968\n",
      "happiness   : 0.500\n",
      "neutral     : 0.428\n",
      "sadness     : 1.718\n",
      "surprise    : 1.339\n"
     ]
    }
   ],
   "source": [
    "# Calculate class weights to address imbalance\n",
    "class_weights = compute_class_weight(\n",
    "    'balanced',\n",
    "    classes=np.unique(y_train[label_col]),\n",
    "    y=y_train[label_col]\n",
    ")\n",
    "class_weight_dict = dict(enumerate(class_weights))\n",
    "\n",
    "# Display class weights for transparency\n",
    "for class_id, weight in class_weight_dict.items():\n",
    "    emotion_name = id_to_emotion[class_id]\n",
    "    print(f\"{emotion_name:12s}: {weight:.3f}\")"
   ]
  },
  {
   "cell_type": "code",
   "execution_count": 46,
   "id": "7fc55a25-ee84-4c29-a3bf-ec65f8e50990",
   "metadata": {},
   "outputs": [],
   "source": [
    "# Updated hyperparameters for improved model\n",
    "VOCAB_SIZE_V2 = 40000\n",
    "EMBEDDING_DIM_V2 = 128\n",
    "RNN_UNITS_V2 = 128\n",
    "MAX_LEN_V2 = 65\n",
    "NUM_CLASSES_V2 = 7\n",
    "DROPOUT_RATE_V2 = 0.5\n",
    "BATCH_SIZE_V2 = 128\n",
    "EPOCHS_V2 = 25"
   ]
  },
  {
   "cell_type": "code",
   "execution_count": 47,
   "id": "fd657c72-3a0d-4754-a2f0-572b436bf51a",
   "metadata": {},
   "outputs": [
    {
     "data": {
      "text/html": [
       "<pre style=\"white-space:pre;overflow-x:auto;line-height:normal;font-family:Menlo,'DejaVu Sans Mono',consolas,'Courier New',monospace\"><span style=\"font-weight: bold\">Model: \"sequential_2\"</span>\n",
       "</pre>\n"
      ],
      "text/plain": [
       "\u001b[1mModel: \"sequential_2\"\u001b[0m\n"
      ]
     },
     "metadata": {},
     "output_type": "display_data"
    },
    {
     "data": {
      "text/html": [
       "<pre style=\"white-space:pre;overflow-x:auto;line-height:normal;font-family:Menlo,'DejaVu Sans Mono',consolas,'Courier New',monospace\">┏━━━━━━━━━━━━━━━━━━━━━━━━━━━━━━━━━┳━━━━━━━━━━━━━━━━━━━━━━━━┳━━━━━━━━━━━━━━━┓\n",
       "┃<span style=\"font-weight: bold\"> Layer (type)                    </span>┃<span style=\"font-weight: bold\"> Output Shape           </span>┃<span style=\"font-weight: bold\">       Param # </span>┃\n",
       "┡━━━━━━━━━━━━━━━━━━━━━━━━━━━━━━━━━╇━━━━━━━━━━━━━━━━━━━━━━━━╇━━━━━━━━━━━━━━━┩\n",
       "│ embedding_2 (<span style=\"color: #0087ff; text-decoration-color: #0087ff\">Embedding</span>)         │ (<span style=\"color: #00d7ff; text-decoration-color: #00d7ff\">None</span>, <span style=\"color: #00af00; text-decoration-color: #00af00\">65</span>, <span style=\"color: #00af00; text-decoration-color: #00af00\">128</span>)        │     <span style=\"color: #00af00; text-decoration-color: #00af00\">5,120,128</span> │\n",
       "├─────────────────────────────────┼────────────────────────┼───────────────┤\n",
       "│ bidirectional_2 (<span style=\"color: #0087ff; text-decoration-color: #0087ff\">Bidirectional</span>) │ (<span style=\"color: #00d7ff; text-decoration-color: #00d7ff\">None</span>, <span style=\"color: #00af00; text-decoration-color: #00af00\">65</span>, <span style=\"color: #00af00; text-decoration-color: #00af00\">256</span>)        │       <span style=\"color: #00af00; text-decoration-color: #00af00\">263,168</span> │\n",
       "├─────────────────────────────────┼────────────────────────┼───────────────┤\n",
       "│ dropout_4 (<span style=\"color: #0087ff; text-decoration-color: #0087ff\">Dropout</span>)             │ (<span style=\"color: #00d7ff; text-decoration-color: #00d7ff\">None</span>, <span style=\"color: #00af00; text-decoration-color: #00af00\">65</span>, <span style=\"color: #00af00; text-decoration-color: #00af00\">256</span>)        │             <span style=\"color: #00af00; text-decoration-color: #00af00\">0</span> │\n",
       "├─────────────────────────────────┼────────────────────────┼───────────────┤\n",
       "│ bidirectional_3 (<span style=\"color: #0087ff; text-decoration-color: #0087ff\">Bidirectional</span>) │ (<span style=\"color: #00d7ff; text-decoration-color: #00d7ff\">None</span>, <span style=\"color: #00af00; text-decoration-color: #00af00\">128</span>)            │       <span style=\"color: #00af00; text-decoration-color: #00af00\">164,352</span> │\n",
       "├─────────────────────────────────┼────────────────────────┼───────────────┤\n",
       "│ dropout_5 (<span style=\"color: #0087ff; text-decoration-color: #0087ff\">Dropout</span>)             │ (<span style=\"color: #00d7ff; text-decoration-color: #00d7ff\">None</span>, <span style=\"color: #00af00; text-decoration-color: #00af00\">128</span>)            │             <span style=\"color: #00af00; text-decoration-color: #00af00\">0</span> │\n",
       "├─────────────────────────────────┼────────────────────────┼───────────────┤\n",
       "│ dense_3 (<span style=\"color: #0087ff; text-decoration-color: #0087ff\">Dense</span>)                 │ (<span style=\"color: #00d7ff; text-decoration-color: #00d7ff\">None</span>, <span style=\"color: #00af00; text-decoration-color: #00af00\">64</span>)             │         <span style=\"color: #00af00; text-decoration-color: #00af00\">8,256</span> │\n",
       "├─────────────────────────────────┼────────────────────────┼───────────────┤\n",
       "│ dropout_6 (<span style=\"color: #0087ff; text-decoration-color: #0087ff\">Dropout</span>)             │ (<span style=\"color: #00d7ff; text-decoration-color: #00d7ff\">None</span>, <span style=\"color: #00af00; text-decoration-color: #00af00\">64</span>)             │             <span style=\"color: #00af00; text-decoration-color: #00af00\">0</span> │\n",
       "├─────────────────────────────────┼────────────────────────┼───────────────┤\n",
       "│ dense_4 (<span style=\"color: #0087ff; text-decoration-color: #0087ff\">Dense</span>)                 │ (<span style=\"color: #00d7ff; text-decoration-color: #00d7ff\">None</span>, <span style=\"color: #00af00; text-decoration-color: #00af00\">7</span>)              │           <span style=\"color: #00af00; text-decoration-color: #00af00\">455</span> │\n",
       "└─────────────────────────────────┴────────────────────────┴───────────────┘\n",
       "</pre>\n"
      ],
      "text/plain": [
       "┏━━━━━━━━━━━━━━━━━━━━━━━━━━━━━━━━━┳━━━━━━━━━━━━━━━━━━━━━━━━┳━━━━━━━━━━━━━━━┓\n",
       "┃\u001b[1m \u001b[0m\u001b[1mLayer (type)                   \u001b[0m\u001b[1m \u001b[0m┃\u001b[1m \u001b[0m\u001b[1mOutput Shape          \u001b[0m\u001b[1m \u001b[0m┃\u001b[1m \u001b[0m\u001b[1m      Param #\u001b[0m\u001b[1m \u001b[0m┃\n",
       "┡━━━━━━━━━━━━━━━━━━━━━━━━━━━━━━━━━╇━━━━━━━━━━━━━━━━━━━━━━━━╇━━━━━━━━━━━━━━━┩\n",
       "│ embedding_2 (\u001b[38;5;33mEmbedding\u001b[0m)         │ (\u001b[38;5;45mNone\u001b[0m, \u001b[38;5;34m65\u001b[0m, \u001b[38;5;34m128\u001b[0m)        │     \u001b[38;5;34m5,120,128\u001b[0m │\n",
       "├─────────────────────────────────┼────────────────────────┼───────────────┤\n",
       "│ bidirectional_2 (\u001b[38;5;33mBidirectional\u001b[0m) │ (\u001b[38;5;45mNone\u001b[0m, \u001b[38;5;34m65\u001b[0m, \u001b[38;5;34m256\u001b[0m)        │       \u001b[38;5;34m263,168\u001b[0m │\n",
       "├─────────────────────────────────┼────────────────────────┼───────────────┤\n",
       "│ dropout_4 (\u001b[38;5;33mDropout\u001b[0m)             │ (\u001b[38;5;45mNone\u001b[0m, \u001b[38;5;34m65\u001b[0m, \u001b[38;5;34m256\u001b[0m)        │             \u001b[38;5;34m0\u001b[0m │\n",
       "├─────────────────────────────────┼────────────────────────┼───────────────┤\n",
       "│ bidirectional_3 (\u001b[38;5;33mBidirectional\u001b[0m) │ (\u001b[38;5;45mNone\u001b[0m, \u001b[38;5;34m128\u001b[0m)            │       \u001b[38;5;34m164,352\u001b[0m │\n",
       "├─────────────────────────────────┼────────────────────────┼───────────────┤\n",
       "│ dropout_5 (\u001b[38;5;33mDropout\u001b[0m)             │ (\u001b[38;5;45mNone\u001b[0m, \u001b[38;5;34m128\u001b[0m)            │             \u001b[38;5;34m0\u001b[0m │\n",
       "├─────────────────────────────────┼────────────────────────┼───────────────┤\n",
       "│ dense_3 (\u001b[38;5;33mDense\u001b[0m)                 │ (\u001b[38;5;45mNone\u001b[0m, \u001b[38;5;34m64\u001b[0m)             │         \u001b[38;5;34m8,256\u001b[0m │\n",
       "├─────────────────────────────────┼────────────────────────┼───────────────┤\n",
       "│ dropout_6 (\u001b[38;5;33mDropout\u001b[0m)             │ (\u001b[38;5;45mNone\u001b[0m, \u001b[38;5;34m64\u001b[0m)             │             \u001b[38;5;34m0\u001b[0m │\n",
       "├─────────────────────────────────┼────────────────────────┼───────────────┤\n",
       "│ dense_4 (\u001b[38;5;33mDense\u001b[0m)                 │ (\u001b[38;5;45mNone\u001b[0m, \u001b[38;5;34m7\u001b[0m)              │           \u001b[38;5;34m455\u001b[0m │\n",
       "└─────────────────────────────────┴────────────────────────┴───────────────┘\n"
      ]
     },
     "metadata": {},
     "output_type": "display_data"
    },
    {
     "data": {
      "text/html": [
       "<pre style=\"white-space:pre;overflow-x:auto;line-height:normal;font-family:Menlo,'DejaVu Sans Mono',consolas,'Courier New',monospace\"><span style=\"font-weight: bold\"> Total params: </span><span style=\"color: #00af00; text-decoration-color: #00af00\">5,556,359</span> (21.20 MB)\n",
       "</pre>\n"
      ],
      "text/plain": [
       "\u001b[1m Total params: \u001b[0m\u001b[38;5;34m5,556,359\u001b[0m (21.20 MB)\n"
      ]
     },
     "metadata": {},
     "output_type": "display_data"
    },
    {
     "data": {
      "text/html": [
       "<pre style=\"white-space:pre;overflow-x:auto;line-height:normal;font-family:Menlo,'DejaVu Sans Mono',consolas,'Courier New',monospace\"><span style=\"font-weight: bold\"> Trainable params: </span><span style=\"color: #00af00; text-decoration-color: #00af00\">5,556,359</span> (21.20 MB)\n",
       "</pre>\n"
      ],
      "text/plain": [
       "\u001b[1m Trainable params: \u001b[0m\u001b[38;5;34m5,556,359\u001b[0m (21.20 MB)\n"
      ]
     },
     "metadata": {},
     "output_type": "display_data"
    },
    {
     "data": {
      "text/html": [
       "<pre style=\"white-space:pre;overflow-x:auto;line-height:normal;font-family:Menlo,'DejaVu Sans Mono',consolas,'Courier New',monospace\"><span style=\"font-weight: bold\"> Non-trainable params: </span><span style=\"color: #00af00; text-decoration-color: #00af00\">0</span> (0.00 B)\n",
       "</pre>\n"
      ],
      "text/plain": [
       "\u001b[1m Non-trainable params: \u001b[0m\u001b[38;5;34m0\u001b[0m (0.00 B)\n"
      ]
     },
     "metadata": {},
     "output_type": "display_data"
    }
   ],
   "source": [
    "# Build improved architecture with bidirectional LSTM and deeper network\n",
    "def build_improved_rnn():\n",
    "    model = models.Sequential([\n",
    "        # Embedding layer with masking for variable-length sequences\n",
    "        layers.Embedding(input_dim=VOCAB_SIZE_V2 + 1, \n",
    "                        output_dim=EMBEDDING_DIM_V2, \n",
    "                        input_length=MAX_LEN_V2,\n",
    "                        mask_zero=True),\n",
    "        \n",
    "        # First bidirectional LSTM layer with return sequences\n",
    "        layers.Bidirectional(layers.LSTM(RNN_UNITS_V2, return_sequences=True)),\n",
    "        layers.Dropout(DROPOUT_RATE_V2),\n",
    "        \n",
    "        # Second bidirectional LSTM layer\n",
    "        layers.Bidirectional(layers.LSTM(RNN_UNITS_V2 // 2)),\n",
    "        layers.Dropout(DROPOUT_RATE_V2),\n",
    "        \n",
    "        # Dense layer for additional feature learning\n",
    "        layers.Dense(64, activation='relu'),\n",
    "        layers.Dropout(0.3),\n",
    "        \n",
    "        # Output layer\n",
    "        layers.Dense(NUM_CLASSES_V2, activation='softmax')\n",
    "    ])\n",
    "    return model\n",
    "\n",
    "model_v2 = build_improved_rnn()\n",
    "model_v2.build(input_shape=(None, MAX_LEN_V2))\n",
    "model_v2.summary()"
   ]
  },
  {
   "cell_type": "code",
   "execution_count": 48,
   "id": "8bab495c-a25d-4f3a-b250-2aa14a13dca2",
   "metadata": {},
   "outputs": [],
   "source": [
    "# Compile model with same configuration as baseline\n",
    "model_v2.compile(\n",
    "    optimizer='adam',\n",
    "    loss='categorical_crossentropy',\n",
    "    metrics=['accuracy']\n",
    ")"
   ]
  },
  {
   "cell_type": "code",
   "execution_count": 49,
   "id": "8aa5900c-c520-4770-b89e-9fc58681de32",
   "metadata": {},
   "outputs": [],
   "source": [
    "# Configure callbacks with adjusted patience\n",
    "early_stop_v2 = callbacks.EarlyStopping(\n",
    "    monitor='val_loss',\n",
    "    patience=5,\n",
    "    restore_best_weights=True,\n",
    "    verbose=1\n",
    ")\n",
    "\n",
    "reduce_lr_v2 = callbacks.ReduceLROnPlateau(\n",
    "    monitor='val_loss',\n",
    "    factor=0.5,\n",
    "    patience=3,\n",
    "    min_lr=1e-6,\n",
    "    verbose=1\n",
    ")"
   ]
  },
  {
   "cell_type": "code",
   "execution_count": 50,
   "id": "735bc0e8-26c5-4773-a3cf-ddb3c184aa01",
   "metadata": {},
   "outputs": [
    {
     "name": "stdout",
     "output_type": "stream",
     "text": [
      "Epoch 1/25\n",
      "\u001b[1m858/858\u001b[0m \u001b[32m━━━━━━━━━━━━━━━━━━━━\u001b[0m\u001b[37m\u001b[0m \u001b[1m92s\u001b[0m 101ms/step - accuracy: 0.1338 - loss: 1.9469 - val_accuracy: 0.2337 - val_loss: 1.9375 - learning_rate: 0.0010\n",
      "Epoch 2/25\n",
      "\u001b[1m858/858\u001b[0m \u001b[32m━━━━━━━━━━━━━━━━━━━━\u001b[0m\u001b[37m\u001b[0m \u001b[1m85s\u001b[0m 99ms/step - accuracy: 0.1252 - loss: 1.9429 - val_accuracy: 0.1047 - val_loss: 1.9457 - learning_rate: 0.0010\n",
      "Epoch 3/25\n",
      "\u001b[1m858/858\u001b[0m \u001b[32m━━━━━━━━━━━━━━━━━━━━\u001b[0m\u001b[37m\u001b[0m \u001b[1m87s\u001b[0m 101ms/step - accuracy: 0.1430 - loss: 1.8694 - val_accuracy: 0.0846 - val_loss: 1.9606 - learning_rate: 0.0010\n",
      "Epoch 4/25\n",
      "\u001b[1m858/858\u001b[0m \u001b[32m━━━━━━━━━━━━━━━━━━━━\u001b[0m\u001b[37m\u001b[0m \u001b[1m0s\u001b[0m 96ms/step - accuracy: 0.2088 - loss: 1.6477\n",
      "Epoch 4: ReduceLROnPlateau reducing learning rate to 0.0005000000237487257.\n",
      "\u001b[1m858/858\u001b[0m \u001b[32m━━━━━━━━━━━━━━━━━━━━\u001b[0m\u001b[37m\u001b[0m \u001b[1m88s\u001b[0m 102ms/step - accuracy: 0.2025 - loss: 1.6680 - val_accuracy: 0.1041 - val_loss: 2.0040 - learning_rate: 0.0010\n",
      "Epoch 5/25\n",
      "\u001b[1m858/858\u001b[0m \u001b[32m━━━━━━━━━━━━━━━━━━━━\u001b[0m\u001b[37m\u001b[0m \u001b[1m87s\u001b[0m 101ms/step - accuracy: 0.2850 - loss: 1.3995 - val_accuracy: 0.1097 - val_loss: 2.1345 - learning_rate: 5.0000e-04\n",
      "Epoch 6/25\n",
      "\u001b[1m858/858\u001b[0m \u001b[32m━━━━━━━━━━━━━━━━━━━━\u001b[0m\u001b[37m\u001b[0m \u001b[1m87s\u001b[0m 100ms/step - accuracy: 0.3241 - loss: 1.2773 - val_accuracy: 0.1185 - val_loss: 2.2557 - learning_rate: 5.0000e-04\n",
      "Epoch 6: early stopping\n",
      "Restoring model weights from the end of the best epoch: 1.\n"
     ]
    }
   ],
   "source": [
    "# Train improved model with class weights\n",
    "history_v2 = model_v2.fit(\n",
    "    X_train_seq, y_train_cat,\n",
    "    validation_data=(X_valid_seq, y_valid_cat),\n",
    "    batch_size=BATCH_SIZE_V2,\n",
    "    epochs=EPOCHS_V2,\n",
    "    class_weight=class_weight_dict,\n",
    "    callbacks=[early_stop_v2, reduce_lr_v2],\n",
    "    verbose=1\n",
    ")"
   ]
  },
  {
   "cell_type": "code",
   "execution_count": 51,
   "id": "aa808a4c-ea26-4b89-ab5d-12329126b122",
   "metadata": {},
   "outputs": [
    {
     "name": "stdout",
     "output_type": "stream",
     "text": [
      "Test Accuracy: 0.2280\n",
      "Test Loss: 1.9376\n"
     ]
    }
   ],
   "source": [
    "# Evaluate on test set\n",
    "test_loss_v2, test_acc_v2 = model_v2.evaluate(X_test_seq, y_test_cat, verbose=0)\n",
    "print(f\"Test Accuracy: {test_acc_v2:.4f}\")\n",
    "print(f\"Test Loss: {test_loss_v2:.4f}\")"
   ]
  },
  {
   "cell_type": "code",
   "execution_count": 52,
   "id": "e071c9ce-aa48-4807-8c67-2c1765779a33",
   "metadata": {},
   "outputs": [
    {
     "name": "stdout",
     "output_type": "stream",
     "text": [
      "============================================================\n",
      "IMPROVED MODEL - EXTERNAL TEST SET PERFORMANCE\n",
      "============================================================\n",
      "Macro F1 Score: 0.0769\n",
      "Weighted F1 Score: 0.0962\n",
      "\n",
      "              precision    recall  f1-score   support\n",
      "\n",
      "       anger     0.0792    0.0788    0.0790       406\n",
      "     disgust     0.0303    0.0561    0.0393       214\n",
      "        fear     0.0000    0.0000    0.0000       292\n",
      "   happiness     0.1394    0.6671    0.2307       847\n",
      "     neutral     0.5958    0.0543    0.0996      3147\n",
      "     sadness     0.1176    0.0048    0.0091       841\n",
      "    surprise     0.0524    0.1741    0.0805       247\n",
      "\n",
      "    accuracy                         0.1380      5994\n",
      "   macro avg     0.1450    0.1479    0.0769      5994\n",
      "weighted avg     0.3576    0.1380    0.0962      5994\n",
      "\n"
     ]
    }
   ],
   "source": [
    "# Evaluate on external test set with F1 scores\n",
    "y_new_pred_v2 = model_v2.predict(X_new_test_valid, verbose=0)\n",
    "y_new_pred_classes_v2 = np.argmax(y_new_pred_v2, axis=1)\n",
    "\n",
    "f1_macro_v2 = f1_score(y_new_test_valid, y_new_pred_classes_v2, average='macro')\n",
    "f1_weighted_v2 = f1_score(y_new_test_valid, y_new_pred_classes_v2, average='weighted')\n",
    "\n",
    "print(\"=\" * 60)\n",
    "print(\"IMPROVED MODEL - EXTERNAL TEST SET PERFORMANCE\")\n",
    "print(\"=\" * 60)\n",
    "print(f\"Macro F1 Score: {f1_macro_v2:.4f}\")\n",
    "print(f\"Weighted F1 Score: {f1_weighted_v2:.4f}\\n\")\n",
    "\n",
    "print(classification_report(\n",
    "    y_new_test_valid,\n",
    "    y_new_pred_classes_v2,\n",
    "    target_names=[id_to_emotion[i] for i in range(NUM_CLASSES_V2)],\n",
    "    digits=4\n",
    "))"
   ]
  },
  {
   "cell_type": "code",
   "execution_count": 53,
   "id": "5a3557dd-8164-4258-860b-c8cd77f66528",
   "metadata": {},
   "outputs": [
    {
     "data": {
      "image/png": "[encoded data removed]",
      "text/plain": [
       "<Figure size 1200x400 with 2 Axes>"
      ]
     },
     "metadata": {},
     "output_type": "display_data"
    }
   ],
   "source": [
    "# Visualize training history for improved model\n",
    "plt.figure(figsize=(12, 4))\n",
    "\n",
    "plt.subplot(1, 2, 1)\n",
    "plt.plot(history_v2.history['loss'], label='Training Loss')\n",
    "plt.plot(history_v2.history['val_loss'], label='Validation Loss')\n",
    "plt.title('Improved Model - Loss')\n",
    "plt.xlabel('Epoch')\n",
    "plt.ylabel('Loss')\n",
    "plt.legend()\n",
    "\n",
    "plt.subplot(1, 2, 2)\n",
    "plt.plot(history_v2.history['accuracy'], label='Training Accuracy')\n",
    "plt.plot(history_v2.history['val_accuracy'], label='Validation Accuracy')\n",
    "plt.title('Improved Model - Accuracy')\n",
    "plt.xlabel('Epoch')\n",
    "plt.ylabel('Accuracy')\n",
    "plt.legend()\n",
    "\n",
    "plt.tight_layout()\n",
    "plt.show()"
   ]
  },
  {
   "cell_type": "markdown",
   "id": "6829185c-5c62-43fa-a69c-d52536eef7a5",
   "metadata": {},
   "source": [
    "==================== ITERATION 3: BALANCED APPROACH ====================\n",
    " Strategy: GRU architecture + moderate class weights + batch normalization\n",
    " Calculate moderate class weights (less aggressive)"
   ]
  },
  {
   "cell_type": "code",
   "execution_count": 55,
   "id": "1a539f9d-900a-4a26-b2bf-95059ddc7489",
   "metadata": {},
   "outputs": [
    {
     "name": "stdout",
     "output_type": "stream",
     "text": [
      "Moderate Class Weights:\n",
      "anger       : 1.030\n",
      "disgust     : 2.686\n",
      "fear        : 1.992\n",
      "happiness   : 0.707\n",
      "neutral     : 0.654\n",
      "sadness     : 1.311\n",
      "surprise    : 1.157\n"
     ]
    }
   ],
   "source": [
    "from sklearn.utils.class_weight import compute_class_weight\n",
    "\n",
    "# Use square root of balanced weights for gentler correction\n",
    "class_weights_v3 = compute_class_weight(\n",
    "    'balanced',\n",
    "    classes=np.unique(y_train[label_col]),\n",
    "    y=y_train[label_col]\n",
    ")\n",
    "# Apply square root to make weights less extreme\n",
    "class_weights_v3 = np.sqrt(class_weights_v3)\n",
    "class_weight_dict_v3 = dict(enumerate(class_weights_v3))\n",
    "\n",
    "print(\"Moderate Class Weights:\")\n",
    "for class_id, weight in class_weight_dict_v3.items():\n",
    "    emotion_name = id_to_emotion[class_id]\n",
    "    print(f\"{emotion_name:12s}: {weight:.3f}\")"
   ]
  },
  {
   "cell_type": "code",
   "execution_count": 56,
   "id": "cee1de39-fb37-4e8f-a44c-2e0ce581c05f",
   "metadata": {},
   "outputs": [],
   "source": [
    "# Hyperparameters for iteration 3\n",
    "VOCAB_SIZE_V3 = 40000\n",
    "EMBEDDING_DIM_V3 = 256\n",
    "GRU_UNITS_V3 = 256\n",
    "MAX_LEN_V3 = 65\n",
    "NUM_CLASSES_V3 = 7\n",
    "DROPOUT_RATE_V3 = 0.4\n",
    "BATCH_SIZE_V3 = 128\n",
    "EPOCHS_V3 = 30"
   ]
  },
  {
   "cell_type": "code",
   "execution_count": 57,
   "id": "7ce3d83b-006d-48fc-8388-b2a5826db1c3",
   "metadata": {},
   "outputs": [
    {
     "data": {
      "text/html": [
       "<pre style=\"white-space:pre;overflow-x:auto;line-height:normal;font-family:Menlo,'DejaVu Sans Mono',consolas,'Courier New',monospace\"><span style=\"font-weight: bold\">Model: \"sequential_3\"</span>\n",
       "</pre>\n"
      ],
      "text/plain": [
       "\u001b[1mModel: \"sequential_3\"\u001b[0m\n"
      ]
     },
     "metadata": {},
     "output_type": "display_data"
    },
    {
     "data": {
      "text/html": [
       "<pre style=\"white-space:pre;overflow-x:auto;line-height:normal;font-family:Menlo,'DejaVu Sans Mono',consolas,'Courier New',monospace\">┏━━━━━━━━━━━━━━━━━━━━━━━━━━━━━━━━━┳━━━━━━━━━━━━━━━━━━━━━━━━┳━━━━━━━━━━━━━━━┓\n",
       "┃<span style=\"font-weight: bold\"> Layer (type)                    </span>┃<span style=\"font-weight: bold\"> Output Shape           </span>┃<span style=\"font-weight: bold\">       Param # </span>┃\n",
       "┡━━━━━━━━━━━━━━━━━━━━━━━━━━━━━━━━━╇━━━━━━━━━━━━━━━━━━━━━━━━╇━━━━━━━━━━━━━━━┩\n",
       "│ embedding_3 (<span style=\"color: #0087ff; text-decoration-color: #0087ff\">Embedding</span>)         │ (<span style=\"color: #00d7ff; text-decoration-color: #00d7ff\">None</span>, <span style=\"color: #00af00; text-decoration-color: #00af00\">65</span>, <span style=\"color: #00af00; text-decoration-color: #00af00\">256</span>)        │    <span style=\"color: #00af00; text-decoration-color: #00af00\">10,240,256</span> │\n",
       "├─────────────────────────────────┼────────────────────────┼───────────────┤\n",
       "│ bidirectional_4 (<span style=\"color: #0087ff; text-decoration-color: #0087ff\">Bidirectional</span>) │ (<span style=\"color: #00d7ff; text-decoration-color: #00d7ff\">None</span>, <span style=\"color: #00af00; text-decoration-color: #00af00\">65</span>, <span style=\"color: #00af00; text-decoration-color: #00af00\">512</span>)        │       <span style=\"color: #00af00; text-decoration-color: #00af00\">789,504</span> │\n",
       "├─────────────────────────────────┼────────────────────────┼───────────────┤\n",
       "│ batch_normalization             │ (<span style=\"color: #00d7ff; text-decoration-color: #00d7ff\">None</span>, <span style=\"color: #00af00; text-decoration-color: #00af00\">65</span>, <span style=\"color: #00af00; text-decoration-color: #00af00\">512</span>)        │         <span style=\"color: #00af00; text-decoration-color: #00af00\">2,048</span> │\n",
       "│ (<span style=\"color: #0087ff; text-decoration-color: #0087ff\">BatchNormalization</span>)            │                        │               │\n",
       "├─────────────────────────────────┼────────────────────────┼───────────────┤\n",
       "│ dropout_7 (<span style=\"color: #0087ff; text-decoration-color: #0087ff\">Dropout</span>)             │ (<span style=\"color: #00d7ff; text-decoration-color: #00d7ff\">None</span>, <span style=\"color: #00af00; text-decoration-color: #00af00\">65</span>, <span style=\"color: #00af00; text-decoration-color: #00af00\">512</span>)        │             <span style=\"color: #00af00; text-decoration-color: #00af00\">0</span> │\n",
       "├─────────────────────────────────┼────────────────────────┼───────────────┤\n",
       "│ bidirectional_5 (<span style=\"color: #0087ff; text-decoration-color: #0087ff\">Bidirectional</span>) │ (<span style=\"color: #00d7ff; text-decoration-color: #00d7ff\">None</span>, <span style=\"color: #00af00; text-decoration-color: #00af00\">256</span>)            │       <span style=\"color: #00af00; text-decoration-color: #00af00\">493,056</span> │\n",
       "├─────────────────────────────────┼────────────────────────┼───────────────┤\n",
       "│ batch_normalization_1           │ (<span style=\"color: #00d7ff; text-decoration-color: #00d7ff\">None</span>, <span style=\"color: #00af00; text-decoration-color: #00af00\">256</span>)            │         <span style=\"color: #00af00; text-decoration-color: #00af00\">1,024</span> │\n",
       "│ (<span style=\"color: #0087ff; text-decoration-color: #0087ff\">BatchNormalization</span>)            │                        │               │\n",
       "├─────────────────────────────────┼────────────────────────┼───────────────┤\n",
       "│ dropout_8 (<span style=\"color: #0087ff; text-decoration-color: #0087ff\">Dropout</span>)             │ (<span style=\"color: #00d7ff; text-decoration-color: #00d7ff\">None</span>, <span style=\"color: #00af00; text-decoration-color: #00af00\">256</span>)            │             <span style=\"color: #00af00; text-decoration-color: #00af00\">0</span> │\n",
       "├─────────────────────────────────┼────────────────────────┼───────────────┤\n",
       "│ dense_5 (<span style=\"color: #0087ff; text-decoration-color: #0087ff\">Dense</span>)                 │ (<span style=\"color: #00d7ff; text-decoration-color: #00d7ff\">None</span>, <span style=\"color: #00af00; text-decoration-color: #00af00\">128</span>)            │        <span style=\"color: #00af00; text-decoration-color: #00af00\">32,896</span> │\n",
       "├─────────────────────────────────┼────────────────────────┼───────────────┤\n",
       "│ batch_normalization_2           │ (<span style=\"color: #00d7ff; text-decoration-color: #00d7ff\">None</span>, <span style=\"color: #00af00; text-decoration-color: #00af00\">128</span>)            │           <span style=\"color: #00af00; text-decoration-color: #00af00\">512</span> │\n",
       "│ (<span style=\"color: #0087ff; text-decoration-color: #0087ff\">BatchNormalization</span>)            │                        │               │\n",
       "├─────────────────────────────────┼────────────────────────┼───────────────┤\n",
       "│ dropout_9 (<span style=\"color: #0087ff; text-decoration-color: #0087ff\">Dropout</span>)             │ (<span style=\"color: #00d7ff; text-decoration-color: #00d7ff\">None</span>, <span style=\"color: #00af00; text-decoration-color: #00af00\">128</span>)            │             <span style=\"color: #00af00; text-decoration-color: #00af00\">0</span> │\n",
       "├─────────────────────────────────┼────────────────────────┼───────────────┤\n",
       "│ dense_6 (<span style=\"color: #0087ff; text-decoration-color: #0087ff\">Dense</span>)                 │ (<span style=\"color: #00d7ff; text-decoration-color: #00d7ff\">None</span>, <span style=\"color: #00af00; text-decoration-color: #00af00\">64</span>)             │         <span style=\"color: #00af00; text-decoration-color: #00af00\">8,256</span> │\n",
       "├─────────────────────────────────┼────────────────────────┼───────────────┤\n",
       "│ dropout_10 (<span style=\"color: #0087ff; text-decoration-color: #0087ff\">Dropout</span>)            │ (<span style=\"color: #00d7ff; text-decoration-color: #00d7ff\">None</span>, <span style=\"color: #00af00; text-decoration-color: #00af00\">64</span>)             │             <span style=\"color: #00af00; text-decoration-color: #00af00\">0</span> │\n",
       "├─────────────────────────────────┼────────────────────────┼───────────────┤\n",
       "│ dense_7 (<span style=\"color: #0087ff; text-decoration-color: #0087ff\">Dense</span>)                 │ (<span style=\"color: #00d7ff; text-decoration-color: #00d7ff\">None</span>, <span style=\"color: #00af00; text-decoration-color: #00af00\">7</span>)              │           <span style=\"color: #00af00; text-decoration-color: #00af00\">455</span> │\n",
       "└─────────────────────────────────┴────────────────────────┴───────────────┘\n",
       "</pre>\n"
      ],
      "text/plain": [
       "┏━━━━━━━━━━━━━━━━━━━━━━━━━━━━━━━━━┳━━━━━━━━━━━━━━━━━━━━━━━━┳━━━━━━━━━━━━━━━┓\n",
       "┃\u001b[1m \u001b[0m\u001b[1mLayer (type)                   \u001b[0m\u001b[1m \u001b[0m┃\u001b[1m \u001b[0m\u001b[1mOutput Shape          \u001b[0m\u001b[1m \u001b[0m┃\u001b[1m \u001b[0m\u001b[1m      Param #\u001b[0m\u001b[1m \u001b[0m┃\n",
       "┡━━━━━━━━━━━━━━━━━━━━━━━━━━━━━━━━━╇━━━━━━━━━━━━━━━━━━━━━━━━╇━━━━━━━━━━━━━━━┩\n",
       "│ embedding_3 (\u001b[38;5;33mEmbedding\u001b[0m)         │ (\u001b[38;5;45mNone\u001b[0m, \u001b[38;5;34m65\u001b[0m, \u001b[38;5;34m256\u001b[0m)        │    \u001b[38;5;34m10,240,256\u001b[0m │\n",
       "├─────────────────────────────────┼────────────────────────┼───────────────┤\n",
       "│ bidirectional_4 (\u001b[38;5;33mBidirectional\u001b[0m) │ (\u001b[38;5;45mNone\u001b[0m, \u001b[38;5;34m65\u001b[0m, \u001b[38;5;34m512\u001b[0m)        │       \u001b[38;5;34m789,504\u001b[0m │\n",
       "├─────────────────────────────────┼────────────────────────┼───────────────┤\n",
       "│ batch_normalization             │ (\u001b[38;5;45mNone\u001b[0m, \u001b[38;5;34m65\u001b[0m, \u001b[38;5;34m512\u001b[0m)        │         \u001b[38;5;34m2,048\u001b[0m │\n",
       "│ (\u001b[38;5;33mBatchNormalization\u001b[0m)            │                        │               │\n",
       "├─────────────────────────────────┼────────────────────────┼───────────────┤\n",
       "│ dropout_7 (\u001b[38;5;33mDropout\u001b[0m)             │ (\u001b[38;5;45mNone\u001b[0m, \u001b[38;5;34m65\u001b[0m, \u001b[38;5;34m512\u001b[0m)        │             \u001b[38;5;34m0\u001b[0m │\n",
       "├─────────────────────────────────┼────────────────────────┼───────────────┤\n",
       "│ bidirectional_5 (\u001b[38;5;33mBidirectional\u001b[0m) │ (\u001b[38;5;45mNone\u001b[0m, \u001b[38;5;34m256\u001b[0m)            │       \u001b[38;5;34m493,056\u001b[0m │\n",
       "├─────────────────────────────────┼────────────────────────┼───────────────┤\n",
       "│ batch_normalization_1           │ (\u001b[38;5;45mNone\u001b[0m, \u001b[38;5;34m256\u001b[0m)            │         \u001b[38;5;34m1,024\u001b[0m │\n",
       "│ (\u001b[38;5;33mBatchNormalization\u001b[0m)            │                        │               │\n",
       "├─────────────────────────────────┼────────────────────────┼───────────────┤\n",
       "│ dropout_8 (\u001b[38;5;33mDropout\u001b[0m)             │ (\u001b[38;5;45mNone\u001b[0m, \u001b[38;5;34m256\u001b[0m)            │             \u001b[38;5;34m0\u001b[0m │\n",
       "├─────────────────────────────────┼────────────────────────┼───────────────┤\n",
       "│ dense_5 (\u001b[38;5;33mDense\u001b[0m)                 │ (\u001b[38;5;45mNone\u001b[0m, \u001b[38;5;34m128\u001b[0m)            │        \u001b[38;5;34m32,896\u001b[0m │\n",
       "├─────────────────────────────────┼────────────────────────┼───────────────┤\n",
       "│ batch_normalization_2           │ (\u001b[38;5;45mNone\u001b[0m, \u001b[38;5;34m128\u001b[0m)            │           \u001b[38;5;34m512\u001b[0m │\n",
       "│ (\u001b[38;5;33mBatchNormalization\u001b[0m)            │                        │               │\n",
       "├─────────────────────────────────┼────────────────────────┼───────────────┤\n",
       "│ dropout_9 (\u001b[38;5;33mDropout\u001b[0m)             │ (\u001b[38;5;45mNone\u001b[0m, \u001b[38;5;34m128\u001b[0m)            │             \u001b[38;5;34m0\u001b[0m │\n",
       "├─────────────────────────────────┼────────────────────────┼───────────────┤\n",
       "│ dense_6 (\u001b[38;5;33mDense\u001b[0m)                 │ (\u001b[38;5;45mNone\u001b[0m, \u001b[38;5;34m64\u001b[0m)             │         \u001b[38;5;34m8,256\u001b[0m │\n",
       "├─────────────────────────────────┼────────────────────────┼───────────────┤\n",
       "│ dropout_10 (\u001b[38;5;33mDropout\u001b[0m)            │ (\u001b[38;5;45mNone\u001b[0m, \u001b[38;5;34m64\u001b[0m)             │             \u001b[38;5;34m0\u001b[0m │\n",
       "├─────────────────────────────────┼────────────────────────┼───────────────┤\n",
       "│ dense_7 (\u001b[38;5;33mDense\u001b[0m)                 │ (\u001b[38;5;45mNone\u001b[0m, \u001b[38;5;34m7\u001b[0m)              │           \u001b[38;5;34m455\u001b[0m │\n",
       "└─────────────────────────────────┴────────────────────────┴───────────────┘\n"
      ]
     },
     "metadata": {},
     "output_type": "display_data"
    },
    {
     "data": {
      "text/html": [
       "<pre style=\"white-space:pre;overflow-x:auto;line-height:normal;font-family:Menlo,'DejaVu Sans Mono',consolas,'Courier New',monospace\"><span style=\"font-weight: bold\"> Total params: </span><span style=\"color: #00af00; text-decoration-color: #00af00\">11,568,007</span> (44.13 MB)\n",
       "</pre>\n"
      ],
      "text/plain": [
       "\u001b[1m Total params: \u001b[0m\u001b[38;5;34m11,568,007\u001b[0m (44.13 MB)\n"
      ]
     },
     "metadata": {},
     "output_type": "display_data"
    },
    {
     "data": {
      "text/html": [
       "<pre style=\"white-space:pre;overflow-x:auto;line-height:normal;font-family:Menlo,'DejaVu Sans Mono',consolas,'Courier New',monospace\"><span style=\"font-weight: bold\"> Trainable params: </span><span style=\"color: #00af00; text-decoration-color: #00af00\">11,566,215</span> (44.12 MB)\n",
       "</pre>\n"
      ],
      "text/plain": [
       "\u001b[1m Trainable params: \u001b[0m\u001b[38;5;34m11,566,215\u001b[0m (44.12 MB)\n"
      ]
     },
     "metadata": {},
     "output_type": "display_data"
    },
    {
     "data": {
      "text/html": [
       "<pre style=\"white-space:pre;overflow-x:auto;line-height:normal;font-family:Menlo,'DejaVu Sans Mono',consolas,'Courier New',monospace\"><span style=\"font-weight: bold\"> Non-trainable params: </span><span style=\"color: #00af00; text-decoration-color: #00af00\">1,792</span> (7.00 KB)\n",
       "</pre>\n"
      ],
      "text/plain": [
       "\u001b[1m Non-trainable params: \u001b[0m\u001b[38;5;34m1,792\u001b[0m (7.00 KB)\n"
      ]
     },
     "metadata": {},
     "output_type": "display_data"
    }
   ],
   "source": [
    "# Build GRU-based model with batch normalization\n",
    "def build_gru_model():\n",
    "    model = models.Sequential([\n",
    "        # Embedding layer\n",
    "        layers.Embedding(input_dim=VOCAB_SIZE_V3 + 1, \n",
    "                        output_dim=EMBEDDING_DIM_V3, \n",
    "                        input_length=MAX_LEN_V3,\n",
    "                        mask_zero=True),\n",
    "        \n",
    "        # First GRU layer (faster than LSTM, often comparable performance)\n",
    "        layers.Bidirectional(layers.GRU(GRU_UNITS_V3, return_sequences=True)),\n",
    "        layers.BatchNormalization(),\n",
    "        layers.Dropout(DROPOUT_RATE_V3),\n",
    "        \n",
    "        # Second GRU layer\n",
    "        layers.Bidirectional(layers.GRU(GRU_UNITS_V3 // 2)),\n",
    "        layers.BatchNormalization(),\n",
    "        layers.Dropout(DROPOUT_RATE_V3),\n",
    "        \n",
    "        # Dense layers\n",
    "        layers.Dense(128, activation='relu'),\n",
    "        layers.BatchNormalization(),\n",
    "        layers.Dropout(0.3),\n",
    "        \n",
    "        layers.Dense(64, activation='relu'),\n",
    "        layers.Dropout(0.2),\n",
    "        \n",
    "        # Output layer\n",
    "        layers.Dense(NUM_CLASSES_V3, activation='softmax')\n",
    "    ])\n",
    "    return model\n",
    "\n",
    "model_v3 = build_gru_model()\n",
    "model_v3.build(input_shape=(None, MAX_LEN_V3))\n",
    "model_v3.summary()"
   ]
  },
  {
   "cell_type": "code",
   "execution_count": 58,
   "id": "c9f0b471-e08d-45e9-900c-2958af328196",
   "metadata": {},
   "outputs": [],
   "source": [
    "# Compile with lower learning rate for stability\n",
    "from tensorflow.keras.optimizers import Adam\n",
    "\n",
    "optimizer_v3 = Adam(learning_rate=0.0005)\n",
    "\n",
    "model_v3.compile(\n",
    "    optimizer=optimizer_v3,\n",
    "    loss='categorical_crossentropy',\n",
    "    metrics=['accuracy']\n",
    ")"
   ]
  },
  {
   "cell_type": "code",
   "execution_count": 59,
   "id": "372df843-6b17-4b59-a80f-26f76798b121",
   "metadata": {},
   "outputs": [],
   "source": [
    "# Configure callbacks with longer patience\n",
    "early_stop_v3 = callbacks.EarlyStopping(\n",
    "    monitor='val_loss',\n",
    "    patience=7,\n",
    "    restore_best_weights=True,\n",
    "    verbose=1\n",
    ")\n",
    "\n",
    "reduce_lr_v3 = callbacks.ReduceLROnPlateau(\n",
    "    monitor='val_loss',\n",
    "    factor=0.5,\n",
    "    patience=3,\n",
    "    min_lr=1e-7,\n",
    "    verbose=1\n",
    ")\n",
    "\n",
    "# Add model checkpoint to save best model\n",
    "checkpoint_v3 = callbacks.ModelCheckpoint(\n",
    "    'rnn_best_v3.h5',\n",
    "    monitor='val_accuracy',\n",
    "    save_best_only=True,\n",
    "    verbose=1\n",
    ")"
   ]
  },
  {
   "cell_type": "code",
   "execution_count": 60,
   "id": "6b12cb0a-4f61-427a-b509-c29964bf86b5",
   "metadata": {},
   "outputs": [
    {
     "name": "stdout",
     "output_type": "stream",
     "text": [
      "Epoch 1/30\n",
      "\u001b[1m858/858\u001b[0m \u001b[32m━━━━━━━━━━━━━━━━━━━━\u001b[0m\u001b[37m\u001b[0m \u001b[1m0s\u001b[0m 55ms/step - accuracy: 0.2267 - loss: 1.9385\n",
      "Epoch 1: val_accuracy improved from None to 0.29749, saving model to rnn_best_v3.h5\n"
     ]
    },
    {
     "name": "stderr",
     "output_type": "stream",
     "text": [
      "WARNING: You are saving your model as an HDF5 file via `model.save()` or `keras.saving.save_model(model)`. This file format is considered legacy. We recommend using instead the native Keras format, e.g. `model.save('my_model.keras')` or `keras.saving.save_model(model, 'my_model.keras')`. \n"
     ]
    },
    {
     "name": "stdout",
     "output_type": "stream",
     "text": [
      "\u001b[1m858/858\u001b[0m \u001b[32m━━━━━━━━━━━━━━━━━━━━\u001b[0m\u001b[37m\u001b[0m \u001b[1m58s\u001b[0m 62ms/step - accuracy: 0.2497 - loss: 1.8363 - val_accuracy: 0.2975 - val_loss: 1.7750 - learning_rate: 5.0000e-04\n",
      "Epoch 2/30\n",
      "\u001b[1m857/858\u001b[0m \u001b[32m━━━━━━━━━━━━━━━━━━━\u001b[0m\u001b[37m━\u001b[0m \u001b[1m0s\u001b[0m 54ms/step - accuracy: 0.2975 - loss: 1.7195\n",
      "Epoch 2: val_accuracy improved from 0.29749 to 0.32126, saving model to rnn_best_v3.h5\n"
     ]
    },
    {
     "name": "stderr",
     "output_type": "stream",
     "text": [
      "WARNING: You are saving your model as an HDF5 file via `model.save()` or `keras.saving.save_model(model)`. This file format is considered legacy. We recommend using instead the native Keras format, e.g. `model.save('my_model.keras')` or `keras.saving.save_model(model, 'my_model.keras')`. \n"
     ]
    },
    {
     "name": "stdout",
     "output_type": "stream",
     "text": [
      "\u001b[1m858/858\u001b[0m \u001b[32m━━━━━━━━━━━━━━━━━━━━\u001b[0m\u001b[37m\u001b[0m \u001b[1m50s\u001b[0m 57ms/step - accuracy: 0.3030 - loss: 1.7182 - val_accuracy: 0.3213 - val_loss: 1.7400 - learning_rate: 5.0000e-04\n",
      "Epoch 3/30\n",
      "\u001b[1m858/858\u001b[0m \u001b[32m━━━━━━━━━━━━━━━━━━━━\u001b[0m\u001b[37m\u001b[0m \u001b[1m0s\u001b[0m 54ms/step - accuracy: 0.3163 - loss: 1.7028\n",
      "Epoch 3: val_accuracy improved from 0.32126 to 0.33027, saving model to rnn_best_v3.h5\n"
     ]
    },
    {
     "name": "stderr",
     "output_type": "stream",
     "text": [
      "WARNING: You are saving your model as an HDF5 file via `model.save()` or `keras.saving.save_model(model)`. This file format is considered legacy. We recommend using instead the native Keras format, e.g. `model.save('my_model.keras')` or `keras.saving.save_model(model, 'my_model.keras')`. \n"
     ]
    },
    {
     "name": "stdout",
     "output_type": "stream",
     "text": [
      "\u001b[1m858/858\u001b[0m \u001b[32m━━━━━━━━━━━━━━━━━━━━\u001b[0m\u001b[37m\u001b[0m \u001b[1m49s\u001b[0m 57ms/step - accuracy: 0.3183 - loss: 1.6989 - val_accuracy: 0.3303 - val_loss: 1.7420 - learning_rate: 5.0000e-04\n",
      "Epoch 4/30\n",
      "\u001b[1m858/858\u001b[0m \u001b[32m━━━━━━━━━━━━━━━━━━━━\u001b[0m\u001b[37m\u001b[0m \u001b[1m0s\u001b[0m 54ms/step - accuracy: 0.3262 - loss: 1.6784\n",
      "Epoch 4: val_accuracy did not improve from 0.33027\n",
      "\u001b[1m858/858\u001b[0m \u001b[32m━━━━━━━━━━━━━━━━━━━━\u001b[0m\u001b[37m\u001b[0m \u001b[1m48s\u001b[0m 56ms/step - accuracy: 0.3242 - loss: 1.6787 - val_accuracy: 0.3263 - val_loss: 1.7355 - learning_rate: 5.0000e-04\n",
      "Epoch 5/30\n",
      "\u001b[1m858/858\u001b[0m \u001b[32m━━━━━━━━━━━━━━━━━━━━\u001b[0m\u001b[37m\u001b[0m \u001b[1m0s\u001b[0m 72ms/step - accuracy: 0.3182 - loss: 1.6283\n",
      "Epoch 5: val_accuracy did not improve from 0.33027\n",
      "\u001b[1m858/858\u001b[0m \u001b[32m━━━━━━━━━━━━━━━━━━━━\u001b[0m\u001b[37m\u001b[0m \u001b[1m65s\u001b[0m 75ms/step - accuracy: 0.3131 - loss: 1.6384 - val_accuracy: 0.3083 - val_loss: 1.7397 - learning_rate: 5.0000e-04\n",
      "Epoch 6/30\n",
      "\u001b[1m858/858\u001b[0m \u001b[32m━━━━━━━━━━━━━━━━━━━━\u001b[0m\u001b[37m\u001b[0m \u001b[1m0s\u001b[0m 93ms/step - accuracy: 0.3116 - loss: 1.5526\n",
      "Epoch 6: val_accuracy did not improve from 0.33027\n",
      "\u001b[1m858/858\u001b[0m \u001b[32m━━━━━━━━━━━━━━━━━━━━\u001b[0m\u001b[37m\u001b[0m \u001b[1m84s\u001b[0m 97ms/step - accuracy: 0.3037 - loss: 1.5635 - val_accuracy: 0.2137 - val_loss: 1.8171 - learning_rate: 5.0000e-04\n",
      "Epoch 7/30\n",
      "\u001b[1m858/858\u001b[0m \u001b[32m━━━━━━━━━━━━━━━━━━━━\u001b[0m\u001b[37m\u001b[0m \u001b[1m0s\u001b[0m 81ms/step - accuracy: 0.3226 - loss: 1.4492\n",
      "Epoch 7: ReduceLROnPlateau reducing learning rate to 0.0002500000118743628.\n",
      "\n",
      "Epoch 7: val_accuracy did not improve from 0.33027\n",
      "\u001b[1m858/858\u001b[0m \u001b[32m━━━━━━━━━━━━━━━━━━━━\u001b[0m\u001b[37m\u001b[0m \u001b[1m72s\u001b[0m 84ms/step - accuracy: 0.3135 - loss: 1.4733 - val_accuracy: 0.2190 - val_loss: 1.8731 - learning_rate: 5.0000e-04\n",
      "Epoch 8/30\n",
      "\u001b[1m858/858\u001b[0m \u001b[32m━━━━━━━━━━━━━━━━━━━━\u001b[0m\u001b[37m\u001b[0m \u001b[1m0s\u001b[0m 80ms/step - accuracy: 0.3637 - loss: 1.3254\n",
      "Epoch 8: val_accuracy did not improve from 0.33027\n",
      "\u001b[1m858/858\u001b[0m \u001b[32m━━━━━━━━━━━━━━━━━━━━\u001b[0m\u001b[37m\u001b[0m \u001b[1m72s\u001b[0m 84ms/step - accuracy: 0.3593 - loss: 1.3285 - val_accuracy: 0.1883 - val_loss: 2.0515 - learning_rate: 2.5000e-04\n",
      "Epoch 9/30\n",
      "\u001b[1m858/858\u001b[0m \u001b[32m━━━━━━━━━━━━━━━━━━━━\u001b[0m\u001b[37m\u001b[0m \u001b[1m0s\u001b[0m 94ms/step - accuracy: 0.3953 - loss: 1.2387\n",
      "Epoch 9: val_accuracy did not improve from 0.33027\n",
      "\u001b[1m858/858\u001b[0m \u001b[32m━━━━━━━━━━━━━━━━━━━━\u001b[0m\u001b[37m\u001b[0m \u001b[1m85s\u001b[0m 99ms/step - accuracy: 0.3859 - loss: 1.2593 - val_accuracy: 0.1885 - val_loss: 2.1588 - learning_rate: 2.5000e-04\n",
      "Epoch 10/30\n",
      "\u001b[1m858/858\u001b[0m \u001b[32m━━━━━━━━━━━━━━━━━━━━\u001b[0m\u001b[37m\u001b[0m \u001b[1m0s\u001b[0m 88ms/step - accuracy: 0.4171 - loss: 1.1798\n",
      "Epoch 10: ReduceLROnPlateau reducing learning rate to 0.0001250000059371814.\n",
      "\n",
      "Epoch 10: val_accuracy did not improve from 0.33027\n",
      "\u001b[1m858/858\u001b[0m \u001b[32m━━━━━━━━━━━━━━━━━━━━\u001b[0m\u001b[37m\u001b[0m \u001b[1m79s\u001b[0m 91ms/step - accuracy: 0.4085 - loss: 1.2017 - val_accuracy: 0.1749 - val_loss: 2.2859 - learning_rate: 2.5000e-04\n",
      "Epoch 11/30\n",
      "\u001b[1m858/858\u001b[0m \u001b[32m━━━━━━━━━━━━━━━━━━━━\u001b[0m\u001b[37m\u001b[0m \u001b[1m0s\u001b[0m 55ms/step - accuracy: 0.4469 - loss: 1.1110\n",
      "Epoch 11: val_accuracy did not improve from 0.33027\n",
      "\u001b[1m858/858\u001b[0m \u001b[32m━━━━━━━━━━━━━━━━━━━━\u001b[0m\u001b[37m\u001b[0m \u001b[1m50s\u001b[0m 58ms/step - accuracy: 0.4452 - loss: 1.1166 - val_accuracy: 0.1811 - val_loss: 2.4805 - learning_rate: 1.2500e-04\n",
      "Epoch 11: early stopping\n",
      "Restoring model weights from the end of the best epoch: 4.\n"
     ]
    }
   ],
   "source": [
    "# Train with moderate class weights\n",
    "history_v3 = model_v3.fit(\n",
    "    X_train_seq, y_train_cat,\n",
    "    validation_data=(X_valid_seq, y_valid_cat),\n",
    "    batch_size=BATCH_SIZE_V3,\n",
    "    epochs=EPOCHS_V3,\n",
    "    class_weight=class_weight_dict_v3,\n",
    "    callbacks=[early_stop_v3, reduce_lr_v3, checkpoint_v3],\n",
    "    verbose=1\n",
    ")"
   ]
  },
  {
   "cell_type": "code",
   "execution_count": 61,
   "id": "e059f6fe-5201-478b-a28b-c1852b1d510a",
   "metadata": {},
   "outputs": [
    {
     "name": "stdout",
     "output_type": "stream",
     "text": [
      "Test Accuracy: 0.3249\n",
      "Test Loss: 1.7353\n"
     ]
    }
   ],
   "source": [
    "# Evaluate on test set\n",
    "test_loss_v3, test_acc_v3 = model_v3.evaluate(X_test_seq, y_test_cat, verbose=0)\n",
    "print(f\"Test Accuracy: {test_acc_v3:.4f}\")\n",
    "print(f\"Test Loss: {test_loss_v3:.4f}\")"
   ]
  },
  {
   "cell_type": "code",
   "execution_count": 62,
   "id": "dbcf8388-028b-4378-808d-65eccbaecffe",
   "metadata": {},
   "outputs": [
    {
     "name": "stdout",
     "output_type": "stream",
     "text": [
      "============================================================\n",
      "ITERATION 3 - EXTERNAL TEST SET PERFORMANCE\n",
      "============================================================\n",
      "Macro F1 Score: 0.1104\n",
      "Weighted F1 Score: 0.3584\n",
      "\n",
      "              precision    recall  f1-score   support\n",
      "\n",
      "       anger     0.0000    0.0000    0.0000       406\n",
      "     disgust     0.0000    0.0000    0.0000       214\n",
      "        fear     0.0000    0.0000    0.0000       292\n",
      "   happiness     0.1361    0.1122    0.1230       847\n",
      "     neutral     0.5185    0.8691    0.6495      3147\n",
      "     sadness     0.0000    0.0000    0.0000       841\n",
      "    surprise     0.0000    0.0000    0.0000       247\n",
      "\n",
      "    accuracy                         0.4721      5994\n",
      "   macro avg     0.0935    0.1402    0.1104      5994\n",
      "weighted avg     0.2914    0.4721    0.3584      5994\n",
      "\n"
     ]
    }
   ],
   "source": [
    "# External test set evaluation\n",
    "y_new_pred_v3 = model_v3.predict(X_new_test_valid, verbose=0)\n",
    "y_new_pred_classes_v3 = np.argmax(y_new_pred_v3, axis=1)\n",
    "\n",
    "f1_macro_v3 = f1_score(y_new_test_valid, y_new_pred_classes_v3, average='macro')\n",
    "f1_weighted_v3 = f1_score(y_new_test_valid, y_new_pred_classes_v3, average='weighted')\n",
    "\n",
    "print(\"=\" * 60)\n",
    "print(\"ITERATION 3 - EXTERNAL TEST SET PERFORMANCE\")\n",
    "print(\"=\" * 60)\n",
    "print(f\"Macro F1 Score: {f1_macro_v3:.4f}\")\n",
    "print(f\"Weighted F1 Score: {f1_weighted_v3:.4f}\\n\")\n",
    "\n",
    "print(classification_report(\n",
    "    y_new_test_valid,\n",
    "    y_new_pred_classes_v3,\n",
    "    target_names=[id_to_emotion[i] for i in range(NUM_CLASSES_V3)],\n",
    "    digits=4\n",
    "))"
   ]
  },
  {
   "cell_type": "code",
   "execution_count": 63,
   "id": "93188019-65f7-4dcc-bdab-5d66d2de42fd",
   "metadata": {},
   "outputs": [
    {
     "data": {
      "image/png": "[encoded data removed]",
      "text/plain": [
       "<Figure size 1200x400 with 2 Axes>"
      ]
     },
     "metadata": {},
     "output_type": "display_data"
    }
   ],
   "source": [
    "# Visualize training curves\n",
    "plt.figure(figsize=(12, 4))\n",
    "\n",
    "plt.subplot(1, 2, 1)\n",
    "plt.plot(history_v3.history['loss'], label='Training Loss')\n",
    "plt.plot(history_v3.history['val_loss'], label='Validation Loss')\n",
    "plt.title('Iteration 3 - Loss')\n",
    "plt.xlabel('Epoch')\n",
    "plt.ylabel('Loss')\n",
    "plt.legend()\n",
    "\n",
    "plt.subplot(1, 2, 2)\n",
    "plt.plot(history_v3.history['accuracy'], label='Training Accuracy')\n",
    "plt.plot(history_v3.history['val_accuracy'], label='Validation Accuracy')\n",
    "plt.title('Iteration 3 - Accuracy')\n",
    "plt.xlabel('Epoch')\n",
    "plt.ylabel('Accuracy')\n",
    "plt.legend()\n",
    "\n",
    "plt.tight_layout()\n",
    "plt.show()"
   ]
  },
  {
   "cell_type": "markdown",
   "id": "7dddf46a-fc9b-4778-8e8a-145eb726e2ff",
   "metadata": {},
   "source": [
    "==================== ITERATION 4: FINAL OPTIMIZATION ====================\n",
    " Strategy: Focal Loss + SMOTE-like oversampling + Attention mechanism\n",
    "Implement Focal Loss to heavily penalize misclassified minority classes"
   ]
  },
  {
   "cell_type": "code",
   "execution_count": 64,
   "id": "54018111-ffd6-4d21-aada-f585223e8918",
   "metadata": {},
   "outputs": [],
   "source": [
    "\n",
    "import tensorflow.keras.backend as K\n",
    "\n",
    "def focal_loss(gamma=2.0, alpha=0.25):\n",
    "    \"\"\"\n",
    "    Focal loss addresses class imbalance by down-weighting easy examples\n",
    "    and focusing on hard, misclassified examples\n",
    "    \"\"\"\n",
    "    def focal_loss_fixed(y_true, y_pred):\n",
    "        epsilon = K.epsilon()\n",
    "        y_pred = K.clip(y_pred, epsilon, 1.0 - epsilon)\n",
    "        cross_entropy = -y_true * K.log(y_pred)\n",
    "        weight = alpha * y_true * K.pow((1 - y_pred), gamma)\n",
    "        loss = weight * cross_entropy\n",
    "        return K.sum(loss, axis=1)\n",
    "    return focal_loss_fixed"
   ]
  },
  {
   "cell_type": "code",
   "execution_count": 66,
   "id": "b612b12c-375f-43e2-8d13-65038e1113fc",
   "metadata": {},
   "outputs": [
    {
     "name": "stdout",
     "output_type": "stream",
     "text": [
      "Original training size: 109811\n",
      "Balanced training size: 124554\n",
      "\n",
      "Balanced class distribution:\n",
      "anger       : 14799\n",
      "disgust     : 10000\n",
      "fear        : 10000\n",
      "happiness   : 31351\n",
      "neutral     : 36688\n",
      "sadness     : 10000\n",
      "surprise    : 11716\n"
     ]
    }
   ],
   "source": [
    "# Oversample minority classes using simple duplication\n",
    "def oversample_minority_classes(X, y, target_samples=10000):\n",
    "    \"\"\"\n",
    "    Duplicate samples from minority classes to balance the dataset\n",
    "    \"\"\"\n",
    "    X_resampled = []\n",
    "    y_resampled = []\n",
    "    \n",
    "    # Convert y to numpy array if it's a DataFrame\n",
    "    y_array = y[label_col].values if hasattr(y, 'columns') else y\n",
    "    \n",
    "    for class_id in range(NUM_CLASSES):\n",
    "        # Get samples for this class\n",
    "        class_mask = y_array == class_id\n",
    "        X_class = X[class_mask]\n",
    "        y_class = y_array[class_mask]\n",
    "        \n",
    "        current_samples = len(X_class)\n",
    "        \n",
    "        if current_samples < target_samples:\n",
    "            # Oversample by repeating samples\n",
    "            repeats = target_samples // current_samples + 1\n",
    "            X_class = np.tile(X_class, (repeats, 1))[:target_samples]\n",
    "            y_class = np.tile(y_class, repeats)[:target_samples]\n",
    "        \n",
    "        X_resampled.append(X_class)\n",
    "        y_resampled.append(y_class)\n",
    "    \n",
    "    X_resampled = np.vstack(X_resampled)\n",
    "    y_resampled = np.concatenate(y_resampled)\n",
    "    \n",
    "    # Shuffle the data\n",
    "    indices = np.random.permutation(len(X_resampled))\n",
    "    return X_resampled[indices], y_resampled[indices]\n",
    "\n",
    "# Apply oversampling to training data\n",
    "X_train_balanced, y_train_balanced = oversample_minority_classes(\n",
    "    X_train_seq, y_train, target_samples=10000\n",
    ")\n",
    "y_train_balanced_cat = to_categorical(y_train_balanced, num_classes=NUM_CLASSES)\n",
    "\n",
    "print(f\"Original training size: {len(X_train_seq)}\")\n",
    "print(f\"Balanced training size: {len(X_train_balanced)}\")\n",
    "print(f\"\\nBalanced class distribution:\")\n",
    "for i in range(NUM_CLASSES):\n",
    "    count = np.sum(y_train_balanced == i)\n",
    "    print(f\"{id_to_emotion[i]:12s}: {count}\")"
   ]
  },
  {
   "cell_type": "code",
   "execution_count": 72,
   "id": "a4b089cf-2f45-46fb-b0b5-6e65f45d0187",
   "metadata": {},
   "outputs": [],
   "source": [
    "# Hyperparameters for final iteration\n",
    "VOCAB_SIZE_V4 = 40000\n",
    "EMBEDDING_DIM_V4 = 200\n",
    "LSTM_UNITS_V4 = 200\n",
    "MAX_LEN_V4 = 65\n",
    "NUM_CLASSES_V4 = 7\n",
    "DROPOUT_RATE_V4 = 0.4\n",
    "BATCH_SIZE_V4 = 256\n",
    "EPOCHS_V4 = 30"
   ]
  },
  {
   "cell_type": "code",
   "execution_count": 73,
   "id": "00568a6d-454d-4033-becc-da3af95123c0",
   "metadata": {},
   "outputs": [
    {
     "data": {
      "text/html": [
       "<pre style=\"white-space:pre;overflow-x:auto;line-height:normal;font-family:Menlo,'DejaVu Sans Mono',consolas,'Courier New',monospace\"><span style=\"font-weight: bold\">Model: \"sequential_5\"</span>\n",
       "</pre>\n"
      ],
      "text/plain": [
       "\u001b[1mModel: \"sequential_5\"\u001b[0m\n"
      ]
     },
     "metadata": {},
     "output_type": "display_data"
    },
    {
     "data": {
      "text/html": [
       "<pre style=\"white-space:pre;overflow-x:auto;line-height:normal;font-family:Menlo,'DejaVu Sans Mono',consolas,'Courier New',monospace\">┏━━━━━━━━━━━━━━━━━━━━━━━━━━━━━━━━━┳━━━━━━━━━━━━━━━━━━━━━━━━┳━━━━━━━━━━━━━━━┓\n",
       "┃<span style=\"font-weight: bold\"> Layer (type)                    </span>┃<span style=\"font-weight: bold\"> Output Shape           </span>┃<span style=\"font-weight: bold\">       Param # </span>┃\n",
       "┡━━━━━━━━━━━━━━━━━━━━━━━━━━━━━━━━━╇━━━━━━━━━━━━━━━━━━━━━━━━╇━━━━━━━━━━━━━━━┩\n",
       "│ embedding_5 (<span style=\"color: #0087ff; text-decoration-color: #0087ff\">Embedding</span>)         │ (<span style=\"color: #00d7ff; text-decoration-color: #00d7ff\">None</span>, <span style=\"color: #00af00; text-decoration-color: #00af00\">65</span>, <span style=\"color: #00af00; text-decoration-color: #00af00\">200</span>)        │     <span style=\"color: #00af00; text-decoration-color: #00af00\">8,000,200</span> │\n",
       "├─────────────────────────────────┼────────────────────────┼───────────────┤\n",
       "│ bidirectional_7 (<span style=\"color: #0087ff; text-decoration-color: #0087ff\">Bidirectional</span>) │ (<span style=\"color: #00d7ff; text-decoration-color: #00d7ff\">None</span>, <span style=\"color: #00af00; text-decoration-color: #00af00\">65</span>, <span style=\"color: #00af00; text-decoration-color: #00af00\">400</span>)        │       <span style=\"color: #00af00; text-decoration-color: #00af00\">641,600</span> │\n",
       "├─────────────────────────────────┼────────────────────────┼───────────────┤\n",
       "│ dropout_14 (<span style=\"color: #0087ff; text-decoration-color: #0087ff\">Dropout</span>)            │ (<span style=\"color: #00d7ff; text-decoration-color: #00d7ff\">None</span>, <span style=\"color: #00af00; text-decoration-color: #00af00\">65</span>, <span style=\"color: #00af00; text-decoration-color: #00af00\">400</span>)        │             <span style=\"color: #00af00; text-decoration-color: #00af00\">0</span> │\n",
       "├─────────────────────────────────┼────────────────────────┼───────────────┤\n",
       "│ attention_layer_1               │ (<span style=\"color: #00d7ff; text-decoration-color: #00d7ff\">None</span>, <span style=\"color: #00af00; text-decoration-color: #00af00\">400</span>)            │       <span style=\"color: #00af00; text-decoration-color: #00af00\">160,400</span> │\n",
       "│ (<span style=\"color: #0087ff; text-decoration-color: #0087ff\">AttentionLayer</span>)                │                        │               │\n",
       "├─────────────────────────────────┼────────────────────────┼───────────────┤\n",
       "│ batch_normalization_4           │ (<span style=\"color: #00d7ff; text-decoration-color: #00d7ff\">None</span>, <span style=\"color: #00af00; text-decoration-color: #00af00\">400</span>)            │         <span style=\"color: #00af00; text-decoration-color: #00af00\">1,600</span> │\n",
       "│ (<span style=\"color: #0087ff; text-decoration-color: #0087ff\">BatchNormalization</span>)            │                        │               │\n",
       "├─────────────────────────────────┼────────────────────────┼───────────────┤\n",
       "│ dense_11 (<span style=\"color: #0087ff; text-decoration-color: #0087ff\">Dense</span>)                │ (<span style=\"color: #00d7ff; text-decoration-color: #00d7ff\">None</span>, <span style=\"color: #00af00; text-decoration-color: #00af00\">128</span>)            │        <span style=\"color: #00af00; text-decoration-color: #00af00\">51,328</span> │\n",
       "├─────────────────────────────────┼────────────────────────┼───────────────┤\n",
       "│ dropout_15 (<span style=\"color: #0087ff; text-decoration-color: #0087ff\">Dropout</span>)            │ (<span style=\"color: #00d7ff; text-decoration-color: #00d7ff\">None</span>, <span style=\"color: #00af00; text-decoration-color: #00af00\">128</span>)            │             <span style=\"color: #00af00; text-decoration-color: #00af00\">0</span> │\n",
       "├─────────────────────────────────┼────────────────────────┼───────────────┤\n",
       "│ dense_12 (<span style=\"color: #0087ff; text-decoration-color: #0087ff\">Dense</span>)                │ (<span style=\"color: #00d7ff; text-decoration-color: #00d7ff\">None</span>, <span style=\"color: #00af00; text-decoration-color: #00af00\">64</span>)             │         <span style=\"color: #00af00; text-decoration-color: #00af00\">8,256</span> │\n",
       "├─────────────────────────────────┼────────────────────────┼───────────────┤\n",
       "│ dropout_16 (<span style=\"color: #0087ff; text-decoration-color: #0087ff\">Dropout</span>)            │ (<span style=\"color: #00d7ff; text-decoration-color: #00d7ff\">None</span>, <span style=\"color: #00af00; text-decoration-color: #00af00\">64</span>)             │             <span style=\"color: #00af00; text-decoration-color: #00af00\">0</span> │\n",
       "├─────────────────────────────────┼────────────────────────┼───────────────┤\n",
       "│ dense_13 (<span style=\"color: #0087ff; text-decoration-color: #0087ff\">Dense</span>)                │ (<span style=\"color: #00d7ff; text-decoration-color: #00d7ff\">None</span>, <span style=\"color: #00af00; text-decoration-color: #00af00\">7</span>)              │           <span style=\"color: #00af00; text-decoration-color: #00af00\">455</span> │\n",
       "└─────────────────────────────────┴────────────────────────┴───────────────┘\n",
       "</pre>\n"
      ],
      "text/plain": [
       "┏━━━━━━━━━━━━━━━━━━━━━━━━━━━━━━━━━┳━━━━━━━━━━━━━━━━━━━━━━━━┳━━━━━━━━━━━━━━━┓\n",
       "┃\u001b[1m \u001b[0m\u001b[1mLayer (type)                   \u001b[0m\u001b[1m \u001b[0m┃\u001b[1m \u001b[0m\u001b[1mOutput Shape          \u001b[0m\u001b[1m \u001b[0m┃\u001b[1m \u001b[0m\u001b[1m      Param #\u001b[0m\u001b[1m \u001b[0m┃\n",
       "┡━━━━━━━━━━━━━━━━━━━━━━━━━━━━━━━━━╇━━━━━━━━━━━━━━━━━━━━━━━━╇━━━━━━━━━━━━━━━┩\n",
       "│ embedding_5 (\u001b[38;5;33mEmbedding\u001b[0m)         │ (\u001b[38;5;45mNone\u001b[0m, \u001b[38;5;34m65\u001b[0m, \u001b[38;5;34m200\u001b[0m)        │     \u001b[38;5;34m8,000,200\u001b[0m │\n",
       "├─────────────────────────────────┼────────────────────────┼───────────────┤\n",
       "│ bidirectional_7 (\u001b[38;5;33mBidirectional\u001b[0m) │ (\u001b[38;5;45mNone\u001b[0m, \u001b[38;5;34m65\u001b[0m, \u001b[38;5;34m400\u001b[0m)        │       \u001b[38;5;34m641,600\u001b[0m │\n",
       "├─────────────────────────────────┼────────────────────────┼───────────────┤\n",
       "│ dropout_14 (\u001b[38;5;33mDropout\u001b[0m)            │ (\u001b[38;5;45mNone\u001b[0m, \u001b[38;5;34m65\u001b[0m, \u001b[38;5;34m400\u001b[0m)        │             \u001b[38;5;34m0\u001b[0m │\n",
       "├─────────────────────────────────┼────────────────────────┼───────────────┤\n",
       "│ attention_layer_1               │ (\u001b[38;5;45mNone\u001b[0m, \u001b[38;5;34m400\u001b[0m)            │       \u001b[38;5;34m160,400\u001b[0m │\n",
       "│ (\u001b[38;5;33mAttentionLayer\u001b[0m)                │                        │               │\n",
       "├─────────────────────────────────┼────────────────────────┼───────────────┤\n",
       "│ batch_normalization_4           │ (\u001b[38;5;45mNone\u001b[0m, \u001b[38;5;34m400\u001b[0m)            │         \u001b[38;5;34m1,600\u001b[0m │\n",
       "│ (\u001b[38;5;33mBatchNormalization\u001b[0m)            │                        │               │\n",
       "├─────────────────────────────────┼────────────────────────┼───────────────┤\n",
       "│ dense_11 (\u001b[38;5;33mDense\u001b[0m)                │ (\u001b[38;5;45mNone\u001b[0m, \u001b[38;5;34m128\u001b[0m)            │        \u001b[38;5;34m51,328\u001b[0m │\n",
       "├─────────────────────────────────┼────────────────────────┼───────────────┤\n",
       "│ dropout_15 (\u001b[38;5;33mDropout\u001b[0m)            │ (\u001b[38;5;45mNone\u001b[0m, \u001b[38;5;34m128\u001b[0m)            │             \u001b[38;5;34m0\u001b[0m │\n",
       "├─────────────────────────────────┼────────────────────────┼───────────────┤\n",
       "│ dense_12 (\u001b[38;5;33mDense\u001b[0m)                │ (\u001b[38;5;45mNone\u001b[0m, \u001b[38;5;34m64\u001b[0m)             │         \u001b[38;5;34m8,256\u001b[0m │\n",
       "├─────────────────────────────────┼────────────────────────┼───────────────┤\n",
       "│ dropout_16 (\u001b[38;5;33mDropout\u001b[0m)            │ (\u001b[38;5;45mNone\u001b[0m, \u001b[38;5;34m64\u001b[0m)             │             \u001b[38;5;34m0\u001b[0m │\n",
       "├─────────────────────────────────┼────────────────────────┼───────────────┤\n",
       "│ dense_13 (\u001b[38;5;33mDense\u001b[0m)                │ (\u001b[38;5;45mNone\u001b[0m, \u001b[38;5;34m7\u001b[0m)              │           \u001b[38;5;34m455\u001b[0m │\n",
       "└─────────────────────────────────┴────────────────────────┴───────────────┘\n"
      ]
     },
     "metadata": {},
     "output_type": "display_data"
    },
    {
     "data": {
      "text/html": [
       "<pre style=\"white-space:pre;overflow-x:auto;line-height:normal;font-family:Menlo,'DejaVu Sans Mono',consolas,'Courier New',monospace\"><span style=\"font-weight: bold\"> Total params: </span><span style=\"color: #00af00; text-decoration-color: #00af00\">8,863,839</span> (33.81 MB)\n",
       "</pre>\n"
      ],
      "text/plain": [
       "\u001b[1m Total params: \u001b[0m\u001b[38;5;34m8,863,839\u001b[0m (33.81 MB)\n"
      ]
     },
     "metadata": {},
     "output_type": "display_data"
    },
    {
     "data": {
      "text/html": [
       "<pre style=\"white-space:pre;overflow-x:auto;line-height:normal;font-family:Menlo,'DejaVu Sans Mono',consolas,'Courier New',monospace\"><span style=\"font-weight: bold\"> Trainable params: </span><span style=\"color: #00af00; text-decoration-color: #00af00\">8,863,039</span> (33.81 MB)\n",
       "</pre>\n"
      ],
      "text/plain": [
       "\u001b[1m Trainable params: \u001b[0m\u001b[38;5;34m8,863,039\u001b[0m (33.81 MB)\n"
      ]
     },
     "metadata": {},
     "output_type": "display_data"
    },
    {
     "data": {
      "text/html": [
       "<pre style=\"white-space:pre;overflow-x:auto;line-height:normal;font-family:Menlo,'DejaVu Sans Mono',consolas,'Courier New',monospace\"><span style=\"font-weight: bold\"> Non-trainable params: </span><span style=\"color: #00af00; text-decoration-color: #00af00\">800</span> (3.12 KB)\n",
       "</pre>\n"
      ],
      "text/plain": [
       "\u001b[1m Non-trainable params: \u001b[0m\u001b[38;5;34m800\u001b[0m (3.12 KB)\n"
      ]
     },
     "metadata": {},
     "output_type": "display_data"
    }
   ],
   "source": [
    "# Build model with Attention mechanism\n",
    "class AttentionLayer(layers.Layer):\n",
    "    \"\"\"Custom attention layer to focus on important parts of sequences\"\"\"\n",
    "    def __init__(self, **kwargs):\n",
    "        super(AttentionLayer, self).__init__(**kwargs)\n",
    "    \n",
    "    def build(self, input_shape):\n",
    "        self.W = self.add_weight(\n",
    "            name='attention_weight',\n",
    "            shape=(input_shape[-1], input_shape[-1]),\n",
    "            initializer='glorot_uniform',\n",
    "            trainable=True\n",
    "        )\n",
    "        self.b = self.add_weight(\n",
    "            name='attention_bias',\n",
    "            shape=(input_shape[-1],),\n",
    "            initializer='zeros',\n",
    "            trainable=True\n",
    "        )\n",
    "        super(AttentionLayer, self).build(input_shape)\n",
    "    \n",
    "    def call(self, inputs):\n",
    "        # Compute attention scores\n",
    "        attention_scores = K.tanh(K.dot(inputs, self.W) + self.b)\n",
    "        attention_weights = K.softmax(attention_scores, axis=1)\n",
    "        # Apply attention weights\n",
    "        weighted_input = inputs * attention_weights\n",
    "        return K.sum(weighted_input, axis=1)\n",
    "\n",
    "def build_attention_model():\n",
    "    model = models.Sequential([\n",
    "        # Embedding layer\n",
    "        layers.Embedding(input_dim=VOCAB_SIZE_V4 + 1, \n",
    "                        output_dim=EMBEDDING_DIM_V4, \n",
    "                        input_length=MAX_LEN_V4,\n",
    "                        mask_zero=True),\n",
    "        \n",
    "        # Bidirectional LSTM with return sequences for attention\n",
    "        layers.Bidirectional(layers.LSTM(LSTM_UNITS_V4, return_sequences=True)),\n",
    "        layers.Dropout(DROPOUT_RATE_V4),\n",
    "        \n",
    "        # Attention layer\n",
    "        AttentionLayer(),\n",
    "        layers.BatchNormalization(),\n",
    "        \n",
    "        # Dense layers\n",
    "        layers.Dense(128, activation='relu'),\n",
    "        layers.Dropout(0.4),\n",
    "        \n",
    "        layers.Dense(64, activation='relu'),\n",
    "        layers.Dropout(0.3),\n",
    "        \n",
    "        # Output layer\n",
    "        layers.Dense(NUM_CLASSES_V4, activation='softmax')\n",
    "    ])\n",
    "    return model\n",
    "\n",
    "model_v4 = build_attention_model()\n",
    "model_v4.build(input_shape=(None, MAX_LEN_V4))\n",
    "model_v4.summary()"
   ]
  },
  {
   "cell_type": "code",
   "execution_count": 74,
   "id": "22c15c21-f914-449d-8e9e-f3f629ddd56a",
   "metadata": {},
   "outputs": [],
   "source": [
    "# Compile with Focal Loss and lower learning rate\n",
    "from tensorflow.keras.optimizers import Adam\n",
    "\n",
    "optimizer_v4 = Adam(learning_rate=0.0003)\n",
    "\n",
    "model_v4.compile(\n",
    "    optimizer=optimizer_v4,\n",
    "    loss=focal_loss(gamma=2.0, alpha=0.25),\n",
    "    metrics=['accuracy']\n",
    ")"
   ]
  },
  {
   "cell_type": "code",
   "execution_count": 75,
   "id": "632197ca-7b0b-4ec8-8449-a0bbf3531e11",
   "metadata": {},
   "outputs": [],
   "source": [
    "# Configure callbacks\n",
    "early_stop_v4 = callbacks.EarlyStopping(\n",
    "    monitor='val_loss',\n",
    "    patience=8,\n",
    "    restore_best_weights=True,\n",
    "    verbose=1\n",
    ")\n",
    "\n",
    "reduce_lr_v4 = callbacks.ReduceLROnPlateau(\n",
    "    monitor='val_loss',\n",
    "    factor=0.3,\n",
    "    patience=3,\n",
    "    min_lr=1e-7,\n",
    "    verbose=1\n",
    ")\n",
    "\n",
    "checkpoint_v4 = callbacks.ModelCheckpoint(\n",
    "    'rnn_final_v4.h5',\n",
    "    monitor='val_accuracy',\n",
    "    save_best_only=True,\n",
    "    verbose=1\n",
    ")"
   ]
  },
  {
   "cell_type": "code",
   "execution_count": 76,
   "id": "14c0a5cf-3bf3-4b89-8c9f-e1cc664406c7",
   "metadata": {},
   "outputs": [
    {
     "name": "stdout",
     "output_type": "stream",
     "text": [
      "Epoch 1/30\n",
      "\u001b[1m487/487\u001b[0m \u001b[32m━━━━━━━━━━━━━━━━━━━━\u001b[0m\u001b[37m\u001b[0m \u001b[1m0s\u001b[0m 62ms/step - accuracy: 0.2741 - loss: 0.3279\n",
      "Epoch 1: val_accuracy improved from None to 0.33437, saving model to rnn_final_v4.h5\n"
     ]
    },
    {
     "name": "stderr",
     "output_type": "stream",
     "text": [
      "WARNING: You are saving your model as an HDF5 file via `model.save()` or `keras.saving.save_model(model)`. This file format is considered legacy. We recommend using instead the native Keras format, e.g. `model.save('my_model.keras')` or `keras.saving.save_model(model, 'my_model.keras')`. \n"
     ]
    },
    {
     "name": "stdout",
     "output_type": "stream",
     "text": [
      "\u001b[1m487/487\u001b[0m \u001b[32m━━━━━━━━━━━━━━━━━━━━\u001b[0m\u001b[37m\u001b[0m \u001b[1m38s\u001b[0m 69ms/step - accuracy: 0.2833 - loss: 0.3195 - val_accuracy: 0.3344 - val_loss: 0.2896 - learning_rate: 3.0000e-04\n",
      "Epoch 2/30\n",
      "\u001b[1m487/487\u001b[0m \u001b[32m━━━━━━━━━━━━━━━━━━━━\u001b[0m\u001b[37m\u001b[0m \u001b[1m0s\u001b[0m 62ms/step - accuracy: 0.3133 - loss: 0.2915\n",
      "Epoch 2: val_accuracy did not improve from 0.33437\n",
      "\u001b[1m487/487\u001b[0m \u001b[32m━━━━━━━━━━━━━━━━━━━━\u001b[0m\u001b[37m\u001b[0m \u001b[1m33s\u001b[0m 67ms/step - accuracy: 0.3232 - loss: 0.2853 - val_accuracy: 0.3072 - val_loss: 0.2898 - learning_rate: 3.0000e-04\n",
      "Epoch 3/30\n",
      "\u001b[1m487/487\u001b[0m \u001b[32m━━━━━━━━━━━━━━━━━━━━\u001b[0m\u001b[37m\u001b[0m \u001b[1m0s\u001b[0m 64ms/step - accuracy: 0.3734 - loss: 0.2532\n",
      "Epoch 3: val_accuracy did not improve from 0.33437\n",
      "\u001b[1m487/487\u001b[0m \u001b[32m━━━━━━━━━━━━━━━━━━━━\u001b[0m\u001b[37m\u001b[0m \u001b[1m33s\u001b[0m 66ms/step - accuracy: 0.3752 - loss: 0.2511 - val_accuracy: 0.2878 - val_loss: 0.3065 - learning_rate: 3.0000e-04\n",
      "Epoch 4/30\n",
      "\u001b[1m487/487\u001b[0m \u001b[32m━━━━━━━━━━━━━━━━━━━━\u001b[0m\u001b[37m\u001b[0m \u001b[1m0s\u001b[0m 62ms/step - accuracy: 0.4103 - loss: 0.2255\n",
      "Epoch 4: ReduceLROnPlateau reducing learning rate to 9.000000427477062e-05.\n",
      "\n",
      "Epoch 4: val_accuracy did not improve from 0.33437\n",
      "\u001b[1m487/487\u001b[0m \u001b[32m━━━━━━━━━━━━━━━━━━━━\u001b[0m\u001b[37m\u001b[0m \u001b[1m33s\u001b[0m 65ms/step - accuracy: 0.4098 - loss: 0.2269 - val_accuracy: 0.2832 - val_loss: 0.3273 - learning_rate: 3.0000e-04\n",
      "Epoch 5/30\n",
      "\u001b[1m487/487\u001b[0m \u001b[32m━━━━━━━━━━━━━━━━━━━━\u001b[0m\u001b[37m\u001b[0m \u001b[1m0s\u001b[0m 62ms/step - accuracy: 0.4610 - loss: 0.1986\n",
      "Epoch 5: val_accuracy did not improve from 0.33437\n",
      "\u001b[1m487/487\u001b[0m \u001b[32m━━━━━━━━━━━━━━━━━━━━\u001b[0m\u001b[37m\u001b[0m \u001b[1m33s\u001b[0m 66ms/step - accuracy: 0.4645 - loss: 0.1972 - val_accuracy: 0.2608 - val_loss: 0.3613 - learning_rate: 9.0000e-05\n",
      "Epoch 6/30\n",
      "\u001b[1m487/487\u001b[0m \u001b[32m━━━━━━━━━━━━━━━━━━━━\u001b[0m\u001b[37m\u001b[0m \u001b[1m0s\u001b[0m 62ms/step - accuracy: 0.4893 - loss: 0.1851\n",
      "Epoch 6: val_accuracy did not improve from 0.33437\n",
      "\u001b[1m487/487\u001b[0m \u001b[32m━━━━━━━━━━━━━━━━━━━━\u001b[0m\u001b[37m\u001b[0m \u001b[1m32s\u001b[0m 65ms/step - accuracy: 0.4855 - loss: 0.1862 - val_accuracy: 0.2488 - val_loss: 0.3784 - learning_rate: 9.0000e-05\n",
      "Epoch 7/30\n",
      "\u001b[1m486/487\u001b[0m \u001b[32m━━━━━━━━━━━━━━━━━━━\u001b[0m\u001b[37m━\u001b[0m \u001b[1m0s\u001b[0m 58ms/step - accuracy: 0.5060 - loss: 0.1770\n",
      "Epoch 7: ReduceLROnPlateau reducing learning rate to 2.700000040931627e-05.\n",
      "\n",
      "Epoch 7: val_accuracy did not improve from 0.33437\n",
      "\u001b[1m487/487\u001b[0m \u001b[32m━━━━━━━━━━━━━━━━━━━━\u001b[0m\u001b[37m\u001b[0m \u001b[1m31s\u001b[0m 61ms/step - accuracy: 0.4998 - loss: 0.1787 - val_accuracy: 0.2398 - val_loss: 0.3921 - learning_rate: 9.0000e-05\n",
      "Epoch 8/30\n",
      "\u001b[1m487/487\u001b[0m \u001b[32m━━━━━━━━━━━━━━━━━━━━\u001b[0m\u001b[37m\u001b[0m \u001b[1m0s\u001b[0m 62ms/step - accuracy: 0.5251 - loss: 0.1671\n",
      "Epoch 8: val_accuracy did not improve from 0.33437\n",
      "\u001b[1m487/487\u001b[0m \u001b[32m━━━━━━━━━━━━━━━━━━━━\u001b[0m\u001b[37m\u001b[0m \u001b[1m32s\u001b[0m 64ms/step - accuracy: 0.5219 - loss: 0.1678 - val_accuracy: 0.2416 - val_loss: 0.4131 - learning_rate: 2.7000e-05\n",
      "Epoch 9/30\n",
      "\u001b[1m487/487\u001b[0m \u001b[32m━━━━━━━━━━━━━━━━━━━━\u001b[0m\u001b[37m\u001b[0m \u001b[1m0s\u001b[0m 61ms/step - accuracy: 0.5300 - loss: 0.1644\n",
      "Epoch 9: val_accuracy did not improve from 0.33437\n",
      "\u001b[1m487/487\u001b[0m \u001b[32m━━━━━━━━━━━━━━━━━━━━\u001b[0m\u001b[37m\u001b[0m \u001b[1m32s\u001b[0m 66ms/step - accuracy: 0.5281 - loss: 0.1650 - val_accuracy: 0.2377 - val_loss: 0.4179 - learning_rate: 2.7000e-05\n",
      "Epoch 9: early stopping\n",
      "Restoring model weights from the end of the best epoch: 1.\n"
     ]
    }
   ],
   "source": [
    "# Train on balanced dataset with Focal Loss\n",
    "history_v4 = model_v4.fit(\n",
    "    X_train_balanced, y_train_balanced_cat,\n",
    "    validation_data=(X_valid_seq, y_valid_cat),\n",
    "    batch_size=BATCH_SIZE_V4,\n",
    "    epochs=EPOCHS_V4,\n",
    "    callbacks=[early_stop_v4, reduce_lr_v4, checkpoint_v4],\n",
    "    verbose=1\n",
    ")"
   ]
  },
  {
   "cell_type": "code",
   "execution_count": 77,
   "id": "8e8c3266-f25d-46b4-86c9-5636f8846f1f",
   "metadata": {},
   "outputs": [
    {
     "name": "stdout",
     "output_type": "stream",
     "text": [
      "Test Accuracy: 0.3342\n",
      "Test Loss: 0.2894\n"
     ]
    }
   ],
   "source": [
    "# Evaluate on test set\n",
    "test_loss_v4, test_acc_v4 = model_v4.evaluate(X_test_seq, y_test_cat, verbose=0)\n",
    "print(f\"Test Accuracy: {test_acc_v4:.4f}\")\n",
    "print(f\"Test Loss: {test_loss_v4:.4f}\")"
   ]
  },
  {
   "cell_type": "code",
   "execution_count": 78,
   "id": "5d658fba-b471-4020-b660-47228c0aa033",
   "metadata": {},
   "outputs": [
    {
     "name": "stdout",
     "output_type": "stream",
     "text": [
      "============================================================\n",
      "FINAL ITERATION - EXTERNAL TEST SET PERFORMANCE\n",
      "============================================================\n",
      "Macro F1 Score: 0.0984\n",
      "Weighted F1 Score: 0.3615\n",
      "\n",
      "              precision    recall  f1-score   support\n",
      "\n",
      "       anger     0.0000    0.0000    0.0000       406\n",
      "     disgust     0.0000    0.0000    0.0000       214\n",
      "        fear     0.0000    0.0000    0.0000       292\n",
      "   happiness     0.0000    0.0000    0.0000       847\n",
      "     neutral     0.5250    1.0000    0.6885      3147\n",
      "     sadness     0.0000    0.0000    0.0000       841\n",
      "    surprise     0.0000    0.0000    0.0000       247\n",
      "\n",
      "    accuracy                         0.5250      5994\n",
      "   macro avg     0.0750    0.1429    0.0984      5994\n",
      "weighted avg     0.2757    0.5250    0.3615      5994\n",
      "\n"
     ]
    }
   ],
   "source": [
    "# Final evaluation on external test set\n",
    "y_new_pred_v4 = model_v4.predict(X_new_test_valid, verbose=0)\n",
    "y_new_pred_classes_v4 = np.argmax(y_new_pred_v4, axis=1)\n",
    "\n",
    "f1_macro_v4 = f1_score(y_new_test_valid, y_new_pred_classes_v4, average='macro')\n",
    "f1_weighted_v4 = f1_score(y_new_test_valid, y_new_pred_classes_v4, average='weighted')\n",
    "\n",
    "print(\"=\" * 60)\n",
    "print(\"FINAL ITERATION - EXTERNAL TEST SET PERFORMANCE\")\n",
    "print(\"=\" * 60)\n",
    "print(f\"Macro F1 Score: {f1_macro_v4:.4f}\")\n",
    "print(f\"Weighted F1 Score: {f1_weighted_v4:.4f}\\n\")\n",
    "\n",
    "print(classification_report(\n",
    "    y_new_test_valid,\n",
    "    y_new_pred_classes_v4,\n",
    "    target_names=[id_to_emotion[i] for i in range(NUM_CLASSES_V4)],\n",
    "    digits=4\n",
    "))"
   ]
  },
  {
   "cell_type": "code",
   "execution_count": 79,
   "id": "052d2f46-229a-4bde-bfae-84db3d20d384",
   "metadata": {},
   "outputs": [
    {
     "data": {
      "image/png": "[encoded data removed]",
      "text/plain": [
       "<Figure size 1200x400 with 2 Axes>"
      ]
     },
     "metadata": {},
     "output_type": "display_data"
    }
   ],
   "source": [
    "# Visualize final training curves\n",
    "plt.figure(figsize=(12, 4))\n",
    "\n",
    "plt.subplot(1, 2, 1)\n",
    "plt.plot(history_v4.history['loss'], label='Training Loss')\n",
    "plt.plot(history_v4.history['val_loss'], label='Validation Loss')\n",
    "plt.title('Final Model - Loss')\n",
    "plt.xlabel('Epoch')\n",
    "plt.ylabel('Loss')\n",
    "plt.legend()\n",
    "\n",
    "plt.subplot(1, 2, 2)\n",
    "plt.plot(history_v4.history['accuracy'], label='Training Accuracy')\n",
    "plt.plot(history_v4.history['val_accuracy'], label='Validation Accuracy')\n",
    "plt.title('Final Model - Accuracy')\n",
    "plt.xlabel('Epoch')\n",
    "plt.ylabel('Accuracy')\n",
    "plt.legend()\n",
    "\n",
    "plt.tight_layout()\n",
    "plt.show()"
   ]
  },
  {
   "cell_type": "code",
   "execution_count": 80,
   "id": "ffcab7ca-7d51-4537-98c9-1dc991f6f402",
   "metadata": {},
   "outputs": [
    {
     "name": "stdout",
     "output_type": "stream",
     "text": [
      "\n",
      "======================================================================\n",
      "COMPLETE PERFORMANCE SUMMARY (External Test Set)\n",
      "======================================================================\n",
      "Baseline    - Macro F1: 0.1051 | Weighted F1: 0.3641 | Acc: 50.78%\n",
      "Iteration 2 - Macro F1: 0.0769 | Weighted F1: 0.0962 | Acc: 13.80%\n",
      "Iteration 3 - Macro F1: 0.1104 | Weighted F1: 0.3584 | Acc: 47.21%\n",
      "Iteration 4 - Macro F1: 0.0984 | Weighted F1: 0.3615 | Acc: 52.50%\n",
      "======================================================================\n"
     ]
    }
   ],
   "source": [
    "# Complete performance comparison\n",
    "print(\"\\n\" + \"=\" * 70)\n",
    "print(\"COMPLETE PERFORMANCE SUMMARY (External Test Set)\")\n",
    "print(\"=\" * 70)\n",
    "print(f\"Baseline    - Macro F1: 0.1051 | Weighted F1: 0.3641 | Acc: 50.78%\")\n",
    "print(f\"Iteration 2 - Macro F1: 0.0769 | Weighted F1: 0.0962 | Acc: 13.80%\")\n",
    "print(f\"Iteration 3 - Macro F1: 0.1104 | Weighted F1: 0.3584 | Acc: 47.21%\")\n",
    "print(f\"Iteration 4 - Macro F1: {f1_macro_v4:.4f} | Weighted F1: {f1_weighted_v4:.4f} | Acc: {np.mean(y_new_pred_classes_v4 == y_new_test_valid):.2%}\")\n",
    "print(\"=\" * 70)"
   ]
  }
 ],
 "metadata": {
  "kernelspec": {
   "display_name": "Python 3 (ipykernel)",
   "language": "python",
   "name": "python3"
  },
  "language_info": {
   "codemirror_mode": {
    "name": "ipython",
    "version": 3
   },
   "file_extension": ".py",
   "mimetype": "text/x-python",
   "name": "python",
   "nbconvert_exporter": "python",
   "pygments_lexer": "ipython3",
   "version": "3.11.13"
  }
 },
 "nbformat": 4,
 "nbformat_minor": 5
}
